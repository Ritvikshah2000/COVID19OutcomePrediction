{
 "cells": [
  {
   "cell_type": "code",
   "execution_count": null,
   "metadata": {
    "colab": {
     "base_uri": "https://localhost:8080/"
    },
    "id": "C6V8zP_s_SNT",
    "outputId": "4d493d0c-3e62-4591-fcfb-b8b1f8fadc8b"
   },
   "outputs": [
    {
     "name": "stdout",
     "output_type": "stream",
     "text": [
      "Requirement already satisfied: graphviz in /usr/local/lib/python3.7/dist-packages (0.10.1)\n"
     ]
    }
   ],
   "source": [
    "!pip install graphviz"
   ]
  },
  {
   "cell_type": "code",
   "execution_count": null,
   "metadata": {
    "id": "_8lr-ikJYsfE"
   },
   "outputs": [],
   "source": [
    "import pandas as pd\n",
    "import numpy as np\n",
    "import math\n",
    "import seaborn as sns\n",
    "from scipy import stats\n",
    "from sklearn.model_selection import train_test_split\n",
    "import xgboost as xgb\n",
    "from sklearn.model_selection import GridSearchCV\n",
    "from sklearn.model_selection import StratifiedKFold\n",
    "from sklearn.preprocessing import OrdinalEncoder\n",
    "from sklearn.metrics import accuracy_score\n",
    "from sklearn.metrics import classification_report\n",
    "import pickle\n",
    "from sklearn.metrics import confusion_matrix\n",
    "%matplotlib inline\n",
    "from matplotlib import pyplot as plt\n",
    "from sklearn.tree import DecisionTreeClassifier\n",
    "from sklearn.neighbors import KNeighborsClassifier\n",
    "from sklearn import tree\n",
    "from matplotlib import pyplot\n",
    "from sklearn.model_selection import StratifiedKFold\n",
    "from sklearn.model_selection import cross_val_score\n",
    "from sklearn.metrics import roc_curve, auc,recall_score,precision_score"
   ]
  },
  {
   "cell_type": "code",
   "execution_count": null,
   "metadata": {
    "id": "YOSgTBYbcrF1"
   },
   "outputs": [],
   "source": [
    "dataset = pd.read_csv('https://raw.githubusercontent.com/jusung1459/data/main/data.txt')\n",
    "dataset['date_confirmation'] = pd.to_datetime(dataset['date_confirmation'])"
   ]
  },
  {
   "cell_type": "code",
   "execution_count": null,
   "metadata": {
    "colab": {
     "base_uri": "https://localhost:8080/"
    },
    "id": "MtlvwD2NhoK7",
    "outputId": "35468950-a005-44de-d4cb-54f20b81b1fe"
   },
   "outputs": [
    {
     "data": {
      "text/plain": [
       "(367636, 11)"
      ]
     },
     "execution_count": 5,
     "metadata": {
      "tags": []
     },
     "output_type": "execute_result"
    }
   ],
   "source": [
    "dataset.shape"
   ]
  },
  {
   "cell_type": "code",
   "execution_count": null,
   "metadata": {
    "colab": {
     "base_uri": "https://localhost:8080/"
    },
    "id": "umzvhjx0bOqD",
    "outputId": "675c06c6-e2c5-46a9-e107-4d69c40567b6"
   },
   "outputs": [
    {
     "data": {
      "text/plain": [
       "age                             int64\n",
       "sex                            object\n",
       "date_confirmation      datetime64[ns]\n",
       "outcome                        object\n",
       "combinedKey                    object\n",
       "Confirmed                     float64\n",
       "Deaths                        float64\n",
       "Recovered                     float64\n",
       "Active                        float64\n",
       "Incidence_Rate                float64\n",
       "Case-Fatality_Ratio           float64\n",
       "dtype: object"
      ]
     },
     "execution_count": 6,
     "metadata": {
      "tags": []
     },
     "output_type": "execute_result"
    }
   ],
   "source": [
    "dataset.dtypes"
   ]
  },
  {
   "cell_type": "code",
   "execution_count": null,
   "metadata": {
    "colab": {
     "base_uri": "https://localhost:8080/",
     "height": 419
    },
    "id": "brI7ChUbdiuy",
    "outputId": "29e9230f-4424-4dbe-cb63-6ec95a71d2ea"
   },
   "outputs": [
    {
     "data": {
      "text/html": [
       "<div>\n",
       "<style scoped>\n",
       "    .dataframe tbody tr th:only-of-type {\n",
       "        vertical-align: middle;\n",
       "    }\n",
       "\n",
       "    .dataframe tbody tr th {\n",
       "        vertical-align: top;\n",
       "    }\n",
       "\n",
       "    .dataframe thead th {\n",
       "        text-align: right;\n",
       "    }\n",
       "</style>\n",
       "<table border=\"1\" class=\"dataframe\">\n",
       "  <thead>\n",
       "    <tr style=\"text-align: right;\">\n",
       "      <th></th>\n",
       "      <th>age</th>\n",
       "      <th>sex</th>\n",
       "      <th>date_confirmation</th>\n",
       "      <th>outcome</th>\n",
       "      <th>combinedKey</th>\n",
       "      <th>Confirmed</th>\n",
       "      <th>Deaths</th>\n",
       "      <th>Recovered</th>\n",
       "      <th>Active</th>\n",
       "      <th>Incidence_Rate</th>\n",
       "      <th>Case-Fatality_Ratio</th>\n",
       "    </tr>\n",
       "  </thead>\n",
       "  <tbody>\n",
       "    <tr>\n",
       "      <th>0</th>\n",
       "      <td>43</td>\n",
       "      <td>unknown</td>\n",
       "      <td>2020-05-26</td>\n",
       "      <td>recovered</td>\n",
       "      <td>Delhi, India</td>\n",
       "      <td>2.388280e+05</td>\n",
       "      <td>4907.000000</td>\n",
       "      <td>201671.000000</td>\n",
       "      <td>32250.000000</td>\n",
       "      <td>1276.409575</td>\n",
       "      <td>2.054617</td>\n",
       "    </tr>\n",
       "    <tr>\n",
       "      <th>1</th>\n",
       "      <td>43</td>\n",
       "      <td>unknown</td>\n",
       "      <td>2020-05-20</td>\n",
       "      <td>hospitalized</td>\n",
       "      <td>Uttar Pradesh, India</td>\n",
       "      <td>3.427880e+05</td>\n",
       "      <td>4869.000000</td>\n",
       "      <td>270094.000000</td>\n",
       "      <td>67825.000000</td>\n",
       "      <td>144.099577</td>\n",
       "      <td>1.420411</td>\n",
       "    </tr>\n",
       "    <tr>\n",
       "      <th>2</th>\n",
       "      <td>43</td>\n",
       "      <td>unknown</td>\n",
       "      <td>2020-05-26</td>\n",
       "      <td>hospitalized</td>\n",
       "      <td>Maharashtra, India</td>\n",
       "      <td>1.167496e+06</td>\n",
       "      <td>31791.000000</td>\n",
       "      <td>834432.000000</td>\n",
       "      <td>301273.000000</td>\n",
       "      <td>948.072083</td>\n",
       "      <td>2.723007</td>\n",
       "    </tr>\n",
       "    <tr>\n",
       "      <th>3</th>\n",
       "      <td>24</td>\n",
       "      <td>female</td>\n",
       "      <td>2020-03-15</td>\n",
       "      <td>nonhospitalized</td>\n",
       "      <td>Baden-Wurttemberg, Germany</td>\n",
       "      <td>4.677900e+04</td>\n",
       "      <td>1871.000000</td>\n",
       "      <td>41228.000000</td>\n",
       "      <td>3680.000000</td>\n",
       "      <td>422.592353</td>\n",
       "      <td>3.999658</td>\n",
       "    </tr>\n",
       "    <tr>\n",
       "      <th>4</th>\n",
       "      <td>43</td>\n",
       "      <td>unknown</td>\n",
       "      <td>2020-05-20</td>\n",
       "      <td>hospitalized</td>\n",
       "      <td>Gujarat, India</td>\n",
       "      <td>1.203360e+05</td>\n",
       "      <td>3286.000000</td>\n",
       "      <td>100974.000000</td>\n",
       "      <td>16076.000000</td>\n",
       "      <td>188.400627</td>\n",
       "      <td>2.730687</td>\n",
       "    </tr>\n",
       "    <tr>\n",
       "      <th>...</th>\n",
       "      <td>...</td>\n",
       "      <td>...</td>\n",
       "      <td>...</td>\n",
       "      <td>...</td>\n",
       "      <td>...</td>\n",
       "      <td>...</td>\n",
       "      <td>...</td>\n",
       "      <td>...</td>\n",
       "      <td>...</td>\n",
       "      <td>...</td>\n",
       "      <td>...</td>\n",
       "    </tr>\n",
       "    <tr>\n",
       "      <th>367631</th>\n",
       "      <td>15</td>\n",
       "      <td>male</td>\n",
       "      <td>2020-03-31</td>\n",
       "      <td>nonhospitalized</td>\n",
       "      <td>Santa Fe, Argentina</td>\n",
       "      <td>4.471816e+05</td>\n",
       "      <td>11778.165908</td>\n",
       "      <td>309231.802629</td>\n",
       "      <td>126171.631726</td>\n",
       "      <td>948.291557</td>\n",
       "      <td>2.873130</td>\n",
       "    </tr>\n",
       "    <tr>\n",
       "      <th>367632</th>\n",
       "      <td>43</td>\n",
       "      <td>unknown</td>\n",
       "      <td>2020-04-16</td>\n",
       "      <td>hospitalized</td>\n",
       "      <td>Delhi, India</td>\n",
       "      <td>2.388280e+05</td>\n",
       "      <td>4907.000000</td>\n",
       "      <td>201671.000000</td>\n",
       "      <td>32250.000000</td>\n",
       "      <td>1276.409575</td>\n",
       "      <td>2.054617</td>\n",
       "    </tr>\n",
       "    <tr>\n",
       "      <th>367633</th>\n",
       "      <td>43</td>\n",
       "      <td>unknown</td>\n",
       "      <td>2020-05-30</td>\n",
       "      <td>hospitalized</td>\n",
       "      <td>Maharashtra, India</td>\n",
       "      <td>1.167496e+06</td>\n",
       "      <td>31791.000000</td>\n",
       "      <td>834432.000000</td>\n",
       "      <td>301273.000000</td>\n",
       "      <td>948.072083</td>\n",
       "      <td>2.723007</td>\n",
       "    </tr>\n",
       "    <tr>\n",
       "      <th>367634</th>\n",
       "      <td>28</td>\n",
       "      <td>female</td>\n",
       "      <td>2020-03-02</td>\n",
       "      <td>recovered</td>\n",
       "      <td>Singapore</td>\n",
       "      <td>5.755800e+04</td>\n",
       "      <td>27.000000</td>\n",
       "      <td>57142.000000</td>\n",
       "      <td>389.000000</td>\n",
       "      <td>983.839751</td>\n",
       "      <td>0.046909</td>\n",
       "    </tr>\n",
       "    <tr>\n",
       "      <th>367635</th>\n",
       "      <td>1</td>\n",
       "      <td>female</td>\n",
       "      <td>2020-05-27</td>\n",
       "      <td>nonhospitalized</td>\n",
       "      <td>Sullana, Peru</td>\n",
       "      <td>4.471816e+05</td>\n",
       "      <td>11778.165908</td>\n",
       "      <td>309231.802629</td>\n",
       "      <td>126171.631726</td>\n",
       "      <td>948.291557</td>\n",
       "      <td>2.873130</td>\n",
       "    </tr>\n",
       "  </tbody>\n",
       "</table>\n",
       "<p>367636 rows × 11 columns</p>\n",
       "</div>"
      ],
      "text/plain": [
       "        age      sex  ... Incidence_Rate Case-Fatality_Ratio\n",
       "0        43  unknown  ...    1276.409575            2.054617\n",
       "1        43  unknown  ...     144.099577            1.420411\n",
       "2        43  unknown  ...     948.072083            2.723007\n",
       "3        24   female  ...     422.592353            3.999658\n",
       "4        43  unknown  ...     188.400627            2.730687\n",
       "...     ...      ...  ...            ...                 ...\n",
       "367631   15     male  ...     948.291557            2.873130\n",
       "367632   43  unknown  ...    1276.409575            2.054617\n",
       "367633   43  unknown  ...     948.072083            2.723007\n",
       "367634   28   female  ...     983.839751            0.046909\n",
       "367635    1   female  ...     948.291557            2.873130\n",
       "\n",
       "[367636 rows x 11 columns]"
      ]
     },
     "execution_count": 7,
     "metadata": {
      "tags": []
     },
     "output_type": "execute_result"
    }
   ],
   "source": [
    "dataset"
   ]
  },
  {
   "cell_type": "markdown",
   "metadata": {
    "id": "Pcpo5mTYg0SR"
   },
   "source": [
    "# 2.1 Splitting Dataset"
   ]
  },
  {
   "cell_type": "code",
   "execution_count": null,
   "metadata": {
    "id": "jTF30iNhg6Dx"
   },
   "outputs": [],
   "source": [
    "train, validation = train_test_split(dataset, test_size = 0.20, random_state = 42)"
   ]
  },
  {
   "cell_type": "code",
   "execution_count": null,
   "metadata": {
    "id": "M7uAVRnVghtD"
   },
   "outputs": [],
   "source": [
    "x_train = train[['age', 'sex', 'date_confirmation', 'combinedKey', 'Confirmed', 'Deaths', 'Recovered', 'Active', 'Incidence_Rate', 'Case-Fatality_Ratio']]\n",
    "y_train = train[['outcome']]\n",
    "\n",
    "x_validation = validation[['age', 'sex', 'date_confirmation', 'combinedKey', 'Confirmed', 'Deaths', 'Recovered', 'Active', 'Incidence_Rate', 'Case-Fatality_Ratio']]\n",
    "y_validation = validation[['outcome']]"
   ]
  },
  {
   "cell_type": "code",
   "execution_count": null,
   "metadata": {
    "id": "hwuHQgPqrpIt"
   },
   "outputs": [],
   "source": [
    "# encoder (categorical to numerical)\n",
    "ord_enc = OrdinalEncoder()\n",
    "encoded_dataSet = dataset.copy()\n",
    "encoded_dataSet[\"sex\"] = ord_enc.fit_transform(encoded_dataSet[[\"sex\"]])\n",
    "encoded_dataSet[\"outcome\"] = ord_enc.fit_transform(encoded_dataSet[[\"outcome\"]])\n",
    "encoded_dataSet[\"combinedKey\"] = ord_enc.fit_transform(encoded_dataSet[[\"combinedKey\"]])\n",
    "encoded_dataSet[\"date_confirmation\"] = ord_enc.fit_transform(encoded_dataSet[[\"date_confirmation\"]])\n",
    "train_encoded, validation_encoded = train_test_split(encoded_dataSet, test_size = 0.20, random_state = 42)\n",
    "x_train_encoded = train_encoded[['age', 'sex', 'date_confirmation', 'combinedKey', 'Confirmed', 'Deaths', 'Recovered', 'Active', 'Incidence_Rate', 'Case-Fatality_Ratio']]\n",
    "y_train_encoded = train_encoded[['outcome']]\n",
    "\n",
    "x_validation_encoded = validation_encoded[['age', 'sex', 'date_confirmation', 'combinedKey', 'Confirmed', 'Deaths', 'Recovered', 'Active', 'Incidence_Rate', 'Case-Fatality_Ratio']]\n",
    "y_validation_encoded = validation_encoded[['outcome']]"
   ]
  },
  {
   "cell_type": "code",
   "execution_count": null,
   "metadata": {
    "colab": {
     "base_uri": "https://localhost:8080/",
     "height": 419
    },
    "id": "j-atu4LyKYY6",
    "outputId": "71d70a21-6fb4-482d-9a57-a25fae9ec3a6"
   },
   "outputs": [
    {
     "data": {
      "text/html": [
       "<div>\n",
       "<style scoped>\n",
       "    .dataframe tbody tr th:only-of-type {\n",
       "        vertical-align: middle;\n",
       "    }\n",
       "\n",
       "    .dataframe tbody tr th {\n",
       "        vertical-align: top;\n",
       "    }\n",
       "\n",
       "    .dataframe thead th {\n",
       "        text-align: right;\n",
       "    }\n",
       "</style>\n",
       "<table border=\"1\" class=\"dataframe\">\n",
       "  <thead>\n",
       "    <tr style=\"text-align: right;\">\n",
       "      <th></th>\n",
       "      <th>age</th>\n",
       "      <th>sex</th>\n",
       "      <th>date_confirmation</th>\n",
       "      <th>outcome</th>\n",
       "      <th>combinedKey</th>\n",
       "      <th>Confirmed</th>\n",
       "      <th>Deaths</th>\n",
       "      <th>Recovered</th>\n",
       "      <th>Active</th>\n",
       "      <th>Incidence_Rate</th>\n",
       "      <th>Case-Fatality_Ratio</th>\n",
       "    </tr>\n",
       "  </thead>\n",
       "  <tbody>\n",
       "    <tr>\n",
       "      <th>0</th>\n",
       "      <td>43</td>\n",
       "      <td>2.0</td>\n",
       "      <td>108.0</td>\n",
       "      <td>3.0</td>\n",
       "      <td>316.0</td>\n",
       "      <td>2.388280e+05</td>\n",
       "      <td>4907.000000</td>\n",
       "      <td>201671.000000</td>\n",
       "      <td>32250.000000</td>\n",
       "      <td>1276.409575</td>\n",
       "      <td>2.054617</td>\n",
       "    </tr>\n",
       "    <tr>\n",
       "      <th>1</th>\n",
       "      <td>43</td>\n",
       "      <td>2.0</td>\n",
       "      <td>101.0</td>\n",
       "      <td>1.0</td>\n",
       "      <td>1119.0</td>\n",
       "      <td>3.427880e+05</td>\n",
       "      <td>4869.000000</td>\n",
       "      <td>270094.000000</td>\n",
       "      <td>67825.000000</td>\n",
       "      <td>144.099577</td>\n",
       "      <td>1.420411</td>\n",
       "    </tr>\n",
       "    <tr>\n",
       "      <th>2</th>\n",
       "      <td>43</td>\n",
       "      <td>2.0</td>\n",
       "      <td>108.0</td>\n",
       "      <td>1.0</td>\n",
       "      <td>639.0</td>\n",
       "      <td>1.167496e+06</td>\n",
       "      <td>31791.000000</td>\n",
       "      <td>834432.000000</td>\n",
       "      <td>301273.000000</td>\n",
       "      <td>948.072083</td>\n",
       "      <td>2.723007</td>\n",
       "    </tr>\n",
       "    <tr>\n",
       "      <th>3</th>\n",
       "      <td>24</td>\n",
       "      <td>0.0</td>\n",
       "      <td>49.0</td>\n",
       "      <td>2.0</td>\n",
       "      <td>94.0</td>\n",
       "      <td>4.677900e+04</td>\n",
       "      <td>1871.000000</td>\n",
       "      <td>41228.000000</td>\n",
       "      <td>3680.000000</td>\n",
       "      <td>422.592353</td>\n",
       "      <td>3.999658</td>\n",
       "    </tr>\n",
       "    <tr>\n",
       "      <th>4</th>\n",
       "      <td>43</td>\n",
       "      <td>2.0</td>\n",
       "      <td>101.0</td>\n",
       "      <td>1.0</td>\n",
       "      <td>423.0</td>\n",
       "      <td>1.203360e+05</td>\n",
       "      <td>3286.000000</td>\n",
       "      <td>100974.000000</td>\n",
       "      <td>16076.000000</td>\n",
       "      <td>188.400627</td>\n",
       "      <td>2.730687</td>\n",
       "    </tr>\n",
       "    <tr>\n",
       "      <th>...</th>\n",
       "      <td>...</td>\n",
       "      <td>...</td>\n",
       "      <td>...</td>\n",
       "      <td>...</td>\n",
       "      <td>...</td>\n",
       "      <td>...</td>\n",
       "      <td>...</td>\n",
       "      <td>...</td>\n",
       "      <td>...</td>\n",
       "      <td>...</td>\n",
       "      <td>...</td>\n",
       "    </tr>\n",
       "    <tr>\n",
       "      <th>367631</th>\n",
       "      <td>15</td>\n",
       "      <td>1.0</td>\n",
       "      <td>65.0</td>\n",
       "      <td>2.0</td>\n",
       "      <td>962.0</td>\n",
       "      <td>4.471816e+05</td>\n",
       "      <td>11778.165908</td>\n",
       "      <td>309231.802629</td>\n",
       "      <td>126171.631726</td>\n",
       "      <td>948.291557</td>\n",
       "      <td>2.873130</td>\n",
       "    </tr>\n",
       "    <tr>\n",
       "      <th>367632</th>\n",
       "      <td>43</td>\n",
       "      <td>2.0</td>\n",
       "      <td>74.0</td>\n",
       "      <td>1.0</td>\n",
       "      <td>316.0</td>\n",
       "      <td>2.388280e+05</td>\n",
       "      <td>4907.000000</td>\n",
       "      <td>201671.000000</td>\n",
       "      <td>32250.000000</td>\n",
       "      <td>1276.409575</td>\n",
       "      <td>2.054617</td>\n",
       "    </tr>\n",
       "    <tr>\n",
       "      <th>367633</th>\n",
       "      <td>43</td>\n",
       "      <td>2.0</td>\n",
       "      <td>112.0</td>\n",
       "      <td>1.0</td>\n",
       "      <td>639.0</td>\n",
       "      <td>1.167496e+06</td>\n",
       "      <td>31791.000000</td>\n",
       "      <td>834432.000000</td>\n",
       "      <td>301273.000000</td>\n",
       "      <td>948.072083</td>\n",
       "      <td>2.723007</td>\n",
       "    </tr>\n",
       "    <tr>\n",
       "      <th>367634</th>\n",
       "      <td>28</td>\n",
       "      <td>0.0</td>\n",
       "      <td>42.0</td>\n",
       "      <td>3.0</td>\n",
       "      <td>1008.0</td>\n",
       "      <td>5.755800e+04</td>\n",
       "      <td>27.000000</td>\n",
       "      <td>57142.000000</td>\n",
       "      <td>389.000000</td>\n",
       "      <td>983.839751</td>\n",
       "      <td>0.046909</td>\n",
       "    </tr>\n",
       "    <tr>\n",
       "      <th>367635</th>\n",
       "      <td>1</td>\n",
       "      <td>0.0</td>\n",
       "      <td>109.0</td>\n",
       "      <td>2.0</td>\n",
       "      <td>1047.0</td>\n",
       "      <td>4.471816e+05</td>\n",
       "      <td>11778.165908</td>\n",
       "      <td>309231.802629</td>\n",
       "      <td>126171.631726</td>\n",
       "      <td>948.291557</td>\n",
       "      <td>2.873130</td>\n",
       "    </tr>\n",
       "  </tbody>\n",
       "</table>\n",
       "<p>367636 rows × 11 columns</p>\n",
       "</div>"
      ],
      "text/plain": [
       "        age  sex  ...  Incidence_Rate  Case-Fatality_Ratio\n",
       "0        43  2.0  ...     1276.409575             2.054617\n",
       "1        43  2.0  ...      144.099577             1.420411\n",
       "2        43  2.0  ...      948.072083             2.723007\n",
       "3        24  0.0  ...      422.592353             3.999658\n",
       "4        43  2.0  ...      188.400627             2.730687\n",
       "...     ...  ...  ...             ...                  ...\n",
       "367631   15  1.0  ...      948.291557             2.873130\n",
       "367632   43  2.0  ...     1276.409575             2.054617\n",
       "367633   43  2.0  ...      948.072083             2.723007\n",
       "367634   28  0.0  ...      983.839751             0.046909\n",
       "367635    1  0.0  ...      948.291557             2.873130\n",
       "\n",
       "[367636 rows x 11 columns]"
      ]
     },
     "execution_count": 30,
     "metadata": {
      "tags": []
     },
     "output_type": "execute_result"
    }
   ],
   "source": [
    "encoded_dataSet"
   ]
  },
  {
   "cell_type": "markdown",
   "metadata": {
    "id": "FsynBGGodgqv"
   },
   "source": [
    "# 2.2"
   ]
  },
  {
   "cell_type": "code",
   "execution_count": null,
   "metadata": {
    "colab": {
     "base_uri": "https://localhost:8080/",
     "height": 374
    },
    "id": "fGzYYueZdkqq",
    "outputId": "3d7bfb3a-64cc-44ce-9d3a-d37f4f9e5744"
   },
   "outputs": [
    {
     "ename": "KeyboardInterrupt",
     "evalue": "ignored",
     "output_type": "error",
     "traceback": [
      "\u001b[0;31m---------------------------------------------------------------------------\u001b[0m",
      "\u001b[0;31mKeyboardInterrupt\u001b[0m                         Traceback (most recent call last)",
      "\u001b[0;32m<ipython-input-51-1a8161bad9d2>\u001b[0m in \u001b[0;36m<module>\u001b[0;34m()\u001b[0m\n\u001b[1;32m      7\u001b[0m \u001b[0mkfold\u001b[0m \u001b[0;34m=\u001b[0m \u001b[0mStratifiedKFold\u001b[0m\u001b[0;34m(\u001b[0m\u001b[0mn_splits\u001b[0m\u001b[0;34m=\u001b[0m\u001b[0;36m10\u001b[0m\u001b[0;34m,\u001b[0m \u001b[0mshuffle\u001b[0m\u001b[0;34m=\u001b[0m\u001b[0;32mTrue\u001b[0m\u001b[0;34m,\u001b[0m \u001b[0mrandom_state\u001b[0m\u001b[0;34m=\u001b[0m\u001b[0;36m42\u001b[0m\u001b[0;34m)\u001b[0m\u001b[0;34m\u001b[0m\u001b[0;34m\u001b[0m\u001b[0m\n\u001b[1;32m      8\u001b[0m \u001b[0mgrid_search\u001b[0m \u001b[0;34m=\u001b[0m \u001b[0mGridSearchCV\u001b[0m\u001b[0;34m(\u001b[0m\u001b[0mxgb_model\u001b[0m\u001b[0;34m,\u001b[0m \u001b[0mparam_grid\u001b[0m\u001b[0;34m,\u001b[0m \u001b[0mscoring\u001b[0m\u001b[0;34m=\u001b[0m\u001b[0;34m\"neg_log_loss\"\u001b[0m\u001b[0;34m,\u001b[0m \u001b[0mn_jobs\u001b[0m\u001b[0;34m=\u001b[0m\u001b[0;34m-\u001b[0m\u001b[0;36m1\u001b[0m\u001b[0;34m,\u001b[0m \u001b[0mcv\u001b[0m\u001b[0;34m=\u001b[0m\u001b[0mkfold\u001b[0m\u001b[0;34m)\u001b[0m\u001b[0;34m\u001b[0m\u001b[0;34m\u001b[0m\u001b[0m\n\u001b[0;32m----> 9\u001b[0;31m \u001b[0mgrid_result\u001b[0m \u001b[0;34m=\u001b[0m \u001b[0mgrid_search\u001b[0m\u001b[0;34m.\u001b[0m\u001b[0mfit\u001b[0m\u001b[0;34m(\u001b[0m\u001b[0mx_train_encoded\u001b[0m\u001b[0;34m,\u001b[0m \u001b[0my_train_encoded\u001b[0m\u001b[0;34m)\u001b[0m\u001b[0;34m\u001b[0m\u001b[0;34m\u001b[0m\u001b[0m\n\u001b[0m\u001b[1;32m     10\u001b[0m \u001b[0mprint\u001b[0m\u001b[0;34m(\u001b[0m\u001b[0;34m\"Best: %f using %s\"\u001b[0m \u001b[0;34m%\u001b[0m \u001b[0;34m(\u001b[0m\u001b[0mgrid_result\u001b[0m\u001b[0;34m.\u001b[0m\u001b[0mbest_score_\u001b[0m\u001b[0;34m,\u001b[0m \u001b[0mgrid_result\u001b[0m\u001b[0;34m.\u001b[0m\u001b[0mbest_params_\u001b[0m\u001b[0;34m)\u001b[0m\u001b[0;34m)\u001b[0m\u001b[0;34m\u001b[0m\u001b[0;34m\u001b[0m\u001b[0m\n\u001b[1;32m     11\u001b[0m \u001b[0mmeans\u001b[0m \u001b[0;34m=\u001b[0m \u001b[0mgrid_result\u001b[0m\u001b[0;34m.\u001b[0m\u001b[0mcv_results_\u001b[0m\u001b[0;34m[\u001b[0m\u001b[0;34m'mean_test_score'\u001b[0m\u001b[0;34m]\u001b[0m\u001b[0;34m\u001b[0m\u001b[0;34m\u001b[0m\u001b[0m\n",
      "\u001b[0;32m/usr/local/lib/python3.7/dist-packages/sklearn/model_selection/_search.py\u001b[0m in \u001b[0;36mfit\u001b[0;34m(self, X, y, groups, **fit_params)\u001b[0m\n\u001b[1;32m    708\u001b[0m                 \u001b[0;32mreturn\u001b[0m \u001b[0mresults\u001b[0m\u001b[0;34m\u001b[0m\u001b[0;34m\u001b[0m\u001b[0m\n\u001b[1;32m    709\u001b[0m \u001b[0;34m\u001b[0m\u001b[0m\n\u001b[0;32m--> 710\u001b[0;31m             \u001b[0mself\u001b[0m\u001b[0;34m.\u001b[0m\u001b[0m_run_search\u001b[0m\u001b[0;34m(\u001b[0m\u001b[0mevaluate_candidates\u001b[0m\u001b[0;34m)\u001b[0m\u001b[0;34m\u001b[0m\u001b[0;34m\u001b[0m\u001b[0m\n\u001b[0m\u001b[1;32m    711\u001b[0m \u001b[0;34m\u001b[0m\u001b[0m\n\u001b[1;32m    712\u001b[0m         \u001b[0;31m# For multi-metric evaluation, store the best_index_, best_params_ and\u001b[0m\u001b[0;34m\u001b[0m\u001b[0;34m\u001b[0m\u001b[0;34m\u001b[0m\u001b[0m\n",
      "\u001b[0;32m/usr/local/lib/python3.7/dist-packages/sklearn/model_selection/_search.py\u001b[0m in \u001b[0;36m_run_search\u001b[0;34m(self, evaluate_candidates)\u001b[0m\n\u001b[1;32m   1149\u001b[0m     \u001b[0;32mdef\u001b[0m \u001b[0m_run_search\u001b[0m\u001b[0;34m(\u001b[0m\u001b[0mself\u001b[0m\u001b[0;34m,\u001b[0m \u001b[0mevaluate_candidates\u001b[0m\u001b[0;34m)\u001b[0m\u001b[0;34m:\u001b[0m\u001b[0;34m\u001b[0m\u001b[0;34m\u001b[0m\u001b[0m\n\u001b[1;32m   1150\u001b[0m         \u001b[0;34m\"\"\"Search all candidates in param_grid\"\"\"\u001b[0m\u001b[0;34m\u001b[0m\u001b[0;34m\u001b[0m\u001b[0m\n\u001b[0;32m-> 1151\u001b[0;31m         \u001b[0mevaluate_candidates\u001b[0m\u001b[0;34m(\u001b[0m\u001b[0mParameterGrid\u001b[0m\u001b[0;34m(\u001b[0m\u001b[0mself\u001b[0m\u001b[0;34m.\u001b[0m\u001b[0mparam_grid\u001b[0m\u001b[0;34m)\u001b[0m\u001b[0;34m)\u001b[0m\u001b[0;34m\u001b[0m\u001b[0;34m\u001b[0m\u001b[0m\n\u001b[0m\u001b[1;32m   1152\u001b[0m \u001b[0;34m\u001b[0m\u001b[0m\n\u001b[1;32m   1153\u001b[0m \u001b[0;34m\u001b[0m\u001b[0m\n",
      "\u001b[0;32m/usr/local/lib/python3.7/dist-packages/sklearn/model_selection/_search.py\u001b[0m in \u001b[0;36mevaluate_candidates\u001b[0;34m(candidate_params)\u001b[0m\n\u001b[1;32m    687\u001b[0m                                \u001b[0;32mfor\u001b[0m \u001b[0mparameters\u001b[0m\u001b[0;34m,\u001b[0m \u001b[0;34m(\u001b[0m\u001b[0mtrain\u001b[0m\u001b[0;34m,\u001b[0m \u001b[0mtest\u001b[0m\u001b[0;34m)\u001b[0m\u001b[0;34m\u001b[0m\u001b[0;34m\u001b[0m\u001b[0m\n\u001b[1;32m    688\u001b[0m                                in product(candidate_params,\n\u001b[0;32m--> 689\u001b[0;31m                                           cv.split(X, y, groups)))\n\u001b[0m\u001b[1;32m    690\u001b[0m \u001b[0;34m\u001b[0m\u001b[0m\n\u001b[1;32m    691\u001b[0m                 \u001b[0;32mif\u001b[0m \u001b[0mlen\u001b[0m\u001b[0;34m(\u001b[0m\u001b[0mout\u001b[0m\u001b[0;34m)\u001b[0m \u001b[0;34m<\u001b[0m \u001b[0;36m1\u001b[0m\u001b[0;34m:\u001b[0m\u001b[0;34m\u001b[0m\u001b[0;34m\u001b[0m\u001b[0m\n",
      "\u001b[0;32m/usr/local/lib/python3.7/dist-packages/joblib/parallel.py\u001b[0m in \u001b[0;36m__call__\u001b[0;34m(self, iterable)\u001b[0m\n\u001b[1;32m   1052\u001b[0m \u001b[0;34m\u001b[0m\u001b[0m\n\u001b[1;32m   1053\u001b[0m             \u001b[0;32mwith\u001b[0m \u001b[0mself\u001b[0m\u001b[0;34m.\u001b[0m\u001b[0m_backend\u001b[0m\u001b[0;34m.\u001b[0m\u001b[0mretrieval_context\u001b[0m\u001b[0;34m(\u001b[0m\u001b[0;34m)\u001b[0m\u001b[0;34m:\u001b[0m\u001b[0;34m\u001b[0m\u001b[0;34m\u001b[0m\u001b[0m\n\u001b[0;32m-> 1054\u001b[0;31m                 \u001b[0mself\u001b[0m\u001b[0;34m.\u001b[0m\u001b[0mretrieve\u001b[0m\u001b[0;34m(\u001b[0m\u001b[0;34m)\u001b[0m\u001b[0;34m\u001b[0m\u001b[0;34m\u001b[0m\u001b[0m\n\u001b[0m\u001b[1;32m   1055\u001b[0m             \u001b[0;31m# Make sure that we get a last message telling us we are done\u001b[0m\u001b[0;34m\u001b[0m\u001b[0;34m\u001b[0m\u001b[0;34m\u001b[0m\u001b[0m\n\u001b[1;32m   1056\u001b[0m             \u001b[0melapsed_time\u001b[0m \u001b[0;34m=\u001b[0m \u001b[0mtime\u001b[0m\u001b[0;34m.\u001b[0m\u001b[0mtime\u001b[0m\u001b[0;34m(\u001b[0m\u001b[0;34m)\u001b[0m \u001b[0;34m-\u001b[0m \u001b[0mself\u001b[0m\u001b[0;34m.\u001b[0m\u001b[0m_start_time\u001b[0m\u001b[0;34m\u001b[0m\u001b[0;34m\u001b[0m\u001b[0m\n",
      "\u001b[0;32m/usr/local/lib/python3.7/dist-packages/joblib/parallel.py\u001b[0m in \u001b[0;36mretrieve\u001b[0;34m(self)\u001b[0m\n\u001b[1;32m    931\u001b[0m             \u001b[0;32mtry\u001b[0m\u001b[0;34m:\u001b[0m\u001b[0;34m\u001b[0m\u001b[0;34m\u001b[0m\u001b[0m\n\u001b[1;32m    932\u001b[0m                 \u001b[0;32mif\u001b[0m \u001b[0mgetattr\u001b[0m\u001b[0;34m(\u001b[0m\u001b[0mself\u001b[0m\u001b[0;34m.\u001b[0m\u001b[0m_backend\u001b[0m\u001b[0;34m,\u001b[0m \u001b[0;34m'supports_timeout'\u001b[0m\u001b[0;34m,\u001b[0m \u001b[0;32mFalse\u001b[0m\u001b[0;34m)\u001b[0m\u001b[0;34m:\u001b[0m\u001b[0;34m\u001b[0m\u001b[0;34m\u001b[0m\u001b[0m\n\u001b[0;32m--> 933\u001b[0;31m                     \u001b[0mself\u001b[0m\u001b[0;34m.\u001b[0m\u001b[0m_output\u001b[0m\u001b[0;34m.\u001b[0m\u001b[0mextend\u001b[0m\u001b[0;34m(\u001b[0m\u001b[0mjob\u001b[0m\u001b[0;34m.\u001b[0m\u001b[0mget\u001b[0m\u001b[0;34m(\u001b[0m\u001b[0mtimeout\u001b[0m\u001b[0;34m=\u001b[0m\u001b[0mself\u001b[0m\u001b[0;34m.\u001b[0m\u001b[0mtimeout\u001b[0m\u001b[0;34m)\u001b[0m\u001b[0;34m)\u001b[0m\u001b[0;34m\u001b[0m\u001b[0;34m\u001b[0m\u001b[0m\n\u001b[0m\u001b[1;32m    934\u001b[0m                 \u001b[0;32melse\u001b[0m\u001b[0;34m:\u001b[0m\u001b[0;34m\u001b[0m\u001b[0;34m\u001b[0m\u001b[0m\n\u001b[1;32m    935\u001b[0m                     \u001b[0mself\u001b[0m\u001b[0;34m.\u001b[0m\u001b[0m_output\u001b[0m\u001b[0;34m.\u001b[0m\u001b[0mextend\u001b[0m\u001b[0;34m(\u001b[0m\u001b[0mjob\u001b[0m\u001b[0;34m.\u001b[0m\u001b[0mget\u001b[0m\u001b[0;34m(\u001b[0m\u001b[0;34m)\u001b[0m\u001b[0;34m)\u001b[0m\u001b[0;34m\u001b[0m\u001b[0;34m\u001b[0m\u001b[0m\n",
      "\u001b[0;32m/usr/local/lib/python3.7/dist-packages/joblib/_parallel_backends.py\u001b[0m in \u001b[0;36mwrap_future_result\u001b[0;34m(future, timeout)\u001b[0m\n\u001b[1;32m    540\u001b[0m         AsyncResults.get from multiprocessing.\"\"\"\n\u001b[1;32m    541\u001b[0m         \u001b[0;32mtry\u001b[0m\u001b[0;34m:\u001b[0m\u001b[0;34m\u001b[0m\u001b[0;34m\u001b[0m\u001b[0m\n\u001b[0;32m--> 542\u001b[0;31m             \u001b[0;32mreturn\u001b[0m \u001b[0mfuture\u001b[0m\u001b[0;34m.\u001b[0m\u001b[0mresult\u001b[0m\u001b[0;34m(\u001b[0m\u001b[0mtimeout\u001b[0m\u001b[0;34m=\u001b[0m\u001b[0mtimeout\u001b[0m\u001b[0;34m)\u001b[0m\u001b[0;34m\u001b[0m\u001b[0;34m\u001b[0m\u001b[0m\n\u001b[0m\u001b[1;32m    543\u001b[0m         \u001b[0;32mexcept\u001b[0m \u001b[0mCfTimeoutError\u001b[0m \u001b[0;32mas\u001b[0m \u001b[0me\u001b[0m\u001b[0;34m:\u001b[0m\u001b[0;34m\u001b[0m\u001b[0;34m\u001b[0m\u001b[0m\n\u001b[1;32m    544\u001b[0m             \u001b[0;32mraise\u001b[0m \u001b[0mTimeoutError\u001b[0m \u001b[0;32mfrom\u001b[0m \u001b[0me\u001b[0m\u001b[0;34m\u001b[0m\u001b[0;34m\u001b[0m\u001b[0m\n",
      "\u001b[0;32m/usr/lib/python3.7/concurrent/futures/_base.py\u001b[0m in \u001b[0;36mresult\u001b[0;34m(self, timeout)\u001b[0m\n\u001b[1;32m    428\u001b[0m                 \u001b[0;32mreturn\u001b[0m \u001b[0mself\u001b[0m\u001b[0;34m.\u001b[0m\u001b[0m__get_result\u001b[0m\u001b[0;34m(\u001b[0m\u001b[0;34m)\u001b[0m\u001b[0;34m\u001b[0m\u001b[0;34m\u001b[0m\u001b[0m\n\u001b[1;32m    429\u001b[0m \u001b[0;34m\u001b[0m\u001b[0m\n\u001b[0;32m--> 430\u001b[0;31m             \u001b[0mself\u001b[0m\u001b[0;34m.\u001b[0m\u001b[0m_condition\u001b[0m\u001b[0;34m.\u001b[0m\u001b[0mwait\u001b[0m\u001b[0;34m(\u001b[0m\u001b[0mtimeout\u001b[0m\u001b[0;34m)\u001b[0m\u001b[0;34m\u001b[0m\u001b[0;34m\u001b[0m\u001b[0m\n\u001b[0m\u001b[1;32m    431\u001b[0m \u001b[0;34m\u001b[0m\u001b[0m\n\u001b[1;32m    432\u001b[0m             \u001b[0;32mif\u001b[0m \u001b[0mself\u001b[0m\u001b[0;34m.\u001b[0m\u001b[0m_state\u001b[0m \u001b[0;32min\u001b[0m \u001b[0;34m[\u001b[0m\u001b[0mCANCELLED\u001b[0m\u001b[0;34m,\u001b[0m \u001b[0mCANCELLED_AND_NOTIFIED\u001b[0m\u001b[0;34m]\u001b[0m\u001b[0;34m:\u001b[0m\u001b[0;34m\u001b[0m\u001b[0;34m\u001b[0m\u001b[0m\n",
      "\u001b[0;32m/usr/lib/python3.7/threading.py\u001b[0m in \u001b[0;36mwait\u001b[0;34m(self, timeout)\u001b[0m\n\u001b[1;32m    294\u001b[0m         \u001b[0;32mtry\u001b[0m\u001b[0;34m:\u001b[0m    \u001b[0;31m# restore state no matter what (e.g., KeyboardInterrupt)\u001b[0m\u001b[0;34m\u001b[0m\u001b[0;34m\u001b[0m\u001b[0m\n\u001b[1;32m    295\u001b[0m             \u001b[0;32mif\u001b[0m \u001b[0mtimeout\u001b[0m \u001b[0;32mis\u001b[0m \u001b[0;32mNone\u001b[0m\u001b[0;34m:\u001b[0m\u001b[0;34m\u001b[0m\u001b[0;34m\u001b[0m\u001b[0m\n\u001b[0;32m--> 296\u001b[0;31m                 \u001b[0mwaiter\u001b[0m\u001b[0;34m.\u001b[0m\u001b[0macquire\u001b[0m\u001b[0;34m(\u001b[0m\u001b[0;34m)\u001b[0m\u001b[0;34m\u001b[0m\u001b[0;34m\u001b[0m\u001b[0m\n\u001b[0m\u001b[1;32m    297\u001b[0m                 \u001b[0mgotit\u001b[0m \u001b[0;34m=\u001b[0m \u001b[0;32mTrue\u001b[0m\u001b[0;34m\u001b[0m\u001b[0;34m\u001b[0m\u001b[0m\n\u001b[1;32m    298\u001b[0m             \u001b[0;32melse\u001b[0m\u001b[0;34m:\u001b[0m\u001b[0;34m\u001b[0m\u001b[0;34m\u001b[0m\u001b[0m\n",
      "\u001b[0;31mKeyboardInterrupt\u001b[0m: "
     ]
    }
   ],
   "source": [
    "## finding hyperperameters learning rate\n",
    "xgb_model = xgb.XGBClassifier(objective=\"multi:softprob\", random_state=42, eval_metric=\"merror\")\n",
    "# xgb_model.fit(x_train_encoded, y_train_encoded)\n",
    "n_estimators = [100, 200, 300, 400, 500]\n",
    "learning_rate = [0.001, 0.01, 0.1, 0.2, 0.3]\n",
    "param_grid = dict(learning_rate=learning_rate, n_estimators=n_estimators)\n",
    "kfold = StratifiedKFold(n_splits=10, shuffle=True, random_state=42)\n",
    "grid_search = GridSearchCV(xgb_model, param_grid, scoring=\"neg_log_loss\", n_jobs=-1, cv=kfold)\n",
    "grid_result = grid_search.fit(x_train_encoded, y_train_encoded)\n",
    "print(\"Best: %f using %s\" % (grid_result.best_score_, grid_result.best_params_))\n",
    "means = grid_result.cv_results_['mean_test_score']  \n",
    "stds = grid_result.cv_results_['std_test_score']\n",
    "params = grid_result.cv_results_['params']\n",
    "for mean, stdev, param in zip(means, stds, params):\n",
    "\tprint(\"%f (%f) with: %r\" % (mean, stdev, param))"
   ]
  },
  {
   "cell_type": "code",
   "execution_count": null,
   "metadata": {
    "id": "erxGdTWdZKVn"
   },
   "outputs": [],
   "source": [
    "scores = np.array(means).reshape(len(learning_rate), len(n_estimators))\n",
    "for i, value in enumerate(learning_rate):\n",
    "    pyplot.plot(n_estimators, -scores[i], label='learning_rate: ' + str(value))\n",
    "pyplot.legend()\n",
    "pyplot.xlabel('n_estimators')\n",
    "pyplot.ylabel('Log Loss')\n",
    "pyplot.savefig('n_estimators_vs_learning_rate2.png')"
   ]
  },
  {
   "cell_type": "code",
   "execution_count": null,
   "metadata": {
    "id": "HtU98xRDZHeQ"
   },
   "outputs": [],
   "source": [
    "# testing for overfitting\n",
    "train_scores, test_scores = list(), list()\n",
    "list = [.1,.2,.3,.4,.5,.6,.7,.8,.9,1]\n",
    "values = [i for i in list]\n",
    "for i in values:\n",
    "    xgb_model = xgb.XGBClassifier(use_label_encoder=False, objective=\"multi:softprob\", random_state=42, eval_metric=\"merror\", n_estimators=2800, learning_rate=0.01, max_depth=12, gamma=i)\n",
    "    # train\n",
    "    xgb_model.fit(x_train_encoded, y_train_encoded)\n",
    "    train_yhat = xgb_model.predict(x_train_encoded)\n",
    "    train_acc = accuracy_score(y_train_encoded, train_yhat)\n",
    "    train_scores.append(train_acc)\n",
    "    \n",
    "    # validation\n",
    "    test_yhat = xgb_model.predict(x_validation_encoded)\n",
    "    test_acc = accuracy_score(y_validation_encoded, test_yhat)\n",
    "    test_scores.append(test_acc)\n",
    "    print('>%d, train: %.3f, test: %.3f' % (i, train_acc, test_acc))"
   ]
  },
  {
   "cell_type": "code",
   "execution_count": null,
   "metadata": {
    "id": "Qxv5_AYGZO-9"
   },
   "outputs": [],
   "source": [
    "pyplot.plot(values, train_scores, '-o', label='Train')\n",
    "pyplot.plot(values, test_scores, '-o', label='Test')\n",
    "pyplot.legend()\n",
    "pyplot.show()\n",
    "pyplot.savefig('trainVsTest001.png')"
   ]
  },
  {
   "cell_type": "code",
   "execution_count": null,
   "metadata": {
    "id": "3_tHc4VBaXGZ"
   },
   "outputs": [],
   "source": [
    "xgb_model = xgb.XGBClassifier(use_label_encoder=False, objective=\"multi:softprob\", random_state=42, eval_metric=\"merror\", n_estimators=2800, learning_rate=0.01, max_depth=12, gamma=0.3)\n",
    "xgb_model.fit(x_train_encoded, y_train_encoded)"
   ]
  },
  {
   "cell_type": "code",
   "execution_count": null,
   "metadata": {
    "id": "J7qb-edvaVEK"
   },
   "outputs": [],
   "source": [
    "dtpklxgb = 'xgb_classifier.pkl'\n",
    "dtxgbModelpkl = open(dtpklxgb, 'wb')\n",
    "pickle.dump(xgb_model, dtxgbModelpkl)\n",
    "dtxgbModelpkl.close()"
   ]
  },
  {
   "cell_type": "code",
   "execution_count": null,
   "metadata": {
    "id": "JrFK_RoBaAZB"
   },
   "outputs": [],
   "source": [
    "# Classification Accuracy\n",
    "yVald_pred_xgb = xgb_model.predict(x_validation_encoded)\n",
    "yTrain_pred_xgb = xgb_model.predict(x_train_encoded)\n",
    "\n",
    "print(accuracy_score(y_validation_encoded, yVald_pred_xgb))\n",
    "print(confusion_matrix(y_validation_encoded, yVald_pred_xgb))\n",
    "\n",
    "print(accuracy_score(y_train_encoded, yTrain_pred_xgb))\n",
    "print(confusion_matrix(y_train_encoded, yTrain_pred_xgb))"
   ]
  },
  {
   "cell_type": "code",
   "execution_count": null,
   "metadata": {
    "id": "7uuTFCgMaCSb"
   },
   "outputs": [],
   "source": [
    "#ROC curve graphs for each label\n",
    "values2 = [0,1,2,3]\n",
    "for i in values2:\n",
    "    fpr, tpr, _ = roc_curve(y_train_encoded, yTrain_pred_xgb, pos_label=i)\n",
    "    roc_auc = auc(fpr, tpr)\n",
    "    #xgb.plot_importance(gbm)\n",
    "    #plt.show()\n",
    "    plt.figure()\n",
    "    lw = 2\n",
    "    plt.plot(fpr, tpr, color='darkorange',\n",
    "             lw=lw, label='ROC curve (area = %0.2f)' % roc_auc)\n",
    "    plt.plot([0, 1], [0, 1], color='navy', lw=lw, linestyle='--')\n",
    "    plt.xlim([-0.02, 1.0])\n",
    "    plt.ylim([0.0, 1.05])\n",
    "    plt.xlabel('False Positive Rate')\n",
    "    plt.ylabel('True Positive Rate')\n",
    "    plt.title('ROC curve for label ' + str(i))\n",
    "    plt.legend(loc=\"lower right\")\n",
    "    plt.show()\n"
   ]
  },
  {
   "cell_type": "code",
   "execution_count": null,
   "metadata": {
    "id": "K0J67wIKaHdX"
   },
   "outputs": [],
   "source": [
    "# importannce of each feature\n",
    "xgb_model.feature_importances_"
   ]
  },
  {
   "cell_type": "code",
   "execution_count": null,
   "metadata": {
    "id": "mo3B4L-vaIVO"
   },
   "outputs": [],
   "source": [
    "# 10 fold CV to check for overfitting\n",
    "model = xgb.XGBClassifier(use_label_encoder=False, objective=\"multi:softprob\", random_state=42, eval_metric=\"merror\", n_estimators=2800, learning_rate=0.01, max_depth=12, gamma=0.3)\n",
    "kfold = StratifiedKFold(n_splits=10, random_state=7)\n",
    "results = cross_val_score(model, x_train_whole, y_train_whole, cv=kfold)\n",
    "print(\"Accuracy: %.2f%% (%.2f%%)\" % (results.mean()*100, results.std()*100))"
   ]
  },
  {
   "cell_type": "markdown",
   "metadata": {
    "id": "-wTjhCss2b20"
   },
   "source": [
    "**Decision Tree Classifier**"
   ]
  },
  {
   "cell_type": "code",
   "execution_count": null,
   "metadata": {
    "id": "MQO9_RQd2fPf"
   },
   "outputs": [],
   "source": [
    "dtModel = DecisionTreeClassifier(random_state = 10)\n"
   ]
  },
  {
   "cell_type": "code",
   "execution_count": null,
   "metadata": {
    "colab": {
     "base_uri": "https://localhost:8080/"
    },
    "id": "zRVbkoZ42uaq",
    "outputId": "749a893e-4de2-4f1a-f5c7-5be00739cc2d"
   },
   "outputs": [
    {
     "data": {
      "text/plain": [
       "DecisionTreeClassifier(ccp_alpha=0.0, class_weight=None, criterion='gini',\n",
       "                       max_depth=None, max_features=None, max_leaf_nodes=None,\n",
       "                       min_impurity_decrease=0.0, min_impurity_split=None,\n",
       "                       min_samples_leaf=1, min_samples_split=2,\n",
       "                       min_weight_fraction_leaf=0.0, presort='deprecated',\n",
       "                       random_state=10, splitter='best')"
      ]
     },
     "execution_count": 12,
     "metadata": {
      "tags": []
     },
     "output_type": "execute_result"
    }
   ],
   "source": [
    "dtModel.fit(x_train_encoded, y_train_encoded)"
   ]
  },
  {
   "cell_type": "code",
   "execution_count": null,
   "metadata": {
    "id": "BWtcDozRFLTP"
   },
   "outputs": [],
   "source": [
    "dtpklName = 'decisiontree_classifier.pkl'\n",
    "dtModelpkl = open(dtpklName, 'wb')\n",
    "pickle.dump(dtModel, dtModelpkl)\n",
    "dtModelpkl.close()"
   ]
  },
  {
   "cell_type": "code",
   "execution_count": null,
   "metadata": {
    "colab": {
     "base_uri": "https://localhost:8080/"
    },
    "id": "DSRTrCyu23yK",
    "outputId": "d1b91f9b-951a-49b3-ad98-f580c8684d9f"
   },
   "outputs": [
    {
     "data": {
      "text/plain": [
       "0.8441286874209474"
      ]
     },
     "execution_count": 14,
     "metadata": {
      "tags": []
     },
     "output_type": "execute_result"
    }
   ],
   "source": [
    "dtModel.score(x_train_encoded, y_train_encoded)"
   ]
  },
  {
   "cell_type": "code",
   "execution_count": null,
   "metadata": {
    "colab": {
     "base_uri": "https://localhost:8080/"
    },
    "id": "nN-azcdy3Udx",
    "outputId": "2aaadc35-d7ef-4b15-f483-d3589ac298b3"
   },
   "outputs": [
    {
     "data": {
      "text/plain": [
       "0.8333424001740833"
      ]
     },
     "execution_count": 15,
     "metadata": {
      "tags": []
     },
     "output_type": "execute_result"
    }
   ],
   "source": [
    "dtModel.score(x_validation_encoded, y_validation_encoded)  "
   ]
  },
  {
   "cell_type": "code",
   "execution_count": null,
   "metadata": {
    "id": "stJ1GalU3a3I"
   },
   "outputs": [],
   "source": [
    "yPred = dtModel.predict(x_validation_encoded)"
   ]
  },
  {
   "cell_type": "markdown",
   "metadata": {
    "id": "b5U7_FwkAKoC"
   },
   "source": [
    "**Visualize Decision Tree**"
   ]
  },
  {
   "cell_type": "code",
   "execution_count": null,
   "metadata": {
    "id": "mTYV4rwa_Hxg"
   },
   "outputs": [],
   "source": [
    "decisiontree = tree.export_graphviz(dtModel,out_file = 'tree.dot', feature_names = x_train_encoded.columns, max_depth=3, filled = True)"
   ]
  },
  {
   "cell_type": "code",
   "execution_count": null,
   "metadata": {
    "id": "0BcYTtlG_vEU"
   },
   "outputs": [],
   "source": [
    "!dot -Tpng tree.dot -o tree.png"
   ]
  },
  {
   "cell_type": "code",
   "execution_count": null,
   "metadata": {
    "colab": {
     "base_uri": "https://localhost:8080/",
     "height": 302
    },
    "id": "A5l4Ydtk_zgf",
    "outputId": "6f42b998-4d56-4ac1-d3f9-01383b135e82"
   },
   "outputs": [
    {
     "data": {
      "text/plain": [
       "<matplotlib.image.AxesImage at 0x7f7d293ee510>"
      ]
     },
     "execution_count": 19,
     "metadata": {
      "tags": []
     },
     "output_type": "execute_result"
    },
    {
     "data": {
      "image/png": "[encoded data removed]",
      "text/plain": [
       "<Figure size 1080x1080 with 1 Axes>"
      ]
     },
     "metadata": {
      "needs_background": "light",
      "tags": []
     },
     "output_type": "display_data"
    }
   ],
   "source": [
    "image = plt.imread('tree.png')\n",
    "plt.figure(figsize=(15,15))\n",
    "plt.imshow(image)"
   ]
  },
  {
   "cell_type": "markdown",
   "metadata": {
    "id": "8E4coWxi-59C"
   },
   "source": [
    "**Evaluating Decision Tree**"
   ]
  },
  {
   "cell_type": "markdown",
   "metadata": {
    "id": "tzDikAFK--B8"
   },
   "source": [
    "Adjusting Max Depth"
   ]
  },
  {
   "cell_type": "code",
   "execution_count": null,
   "metadata": {
    "id": "uWxt7fIk7JFE"
   },
   "outputs": [],
   "source": [
    "trainAccuracy = []\n",
    "validationAccuracy = []\n",
    "for depth in range(1,30):\n",
    "  sampledtModel = DecisionTreeClassifier(max_depth = depth, random_state = 10)\n",
    "  sampledtModel.fit(x_train_encoded, y_train_encoded)\n",
    "  trainAccuracy.append(sampledtModel.score(x_train_encoded, y_train_encoded))\n",
    "  validationAccuracy.append(sampledtModel.score(x_validation_encoded, y_validation_encoded))"
   ]
  },
  {
   "cell_type": "code",
   "execution_count": null,
   "metadata": {
    "colab": {
     "base_uri": "https://localhost:8080/",
     "height": 204
    },
    "id": "kotOVhIJ7mch",
    "outputId": "f0110cfd-4c8d-4d77-d516-a560b36c518d"
   },
   "outputs": [
    {
     "data": {
      "text/html": [
       "<div>\n",
       "<style scoped>\n",
       "    .dataframe tbody tr th:only-of-type {\n",
       "        vertical-align: middle;\n",
       "    }\n",
       "\n",
       "    .dataframe tbody tr th {\n",
       "        vertical-align: top;\n",
       "    }\n",
       "\n",
       "    .dataframe thead th {\n",
       "        text-align: right;\n",
       "    }\n",
       "</style>\n",
       "<table border=\"1\" class=\"dataframe\">\n",
       "  <thead>\n",
       "    <tr style=\"text-align: right;\">\n",
       "      <th></th>\n",
       "      <th>maxDepth</th>\n",
       "      <th>trainingAccuracy</th>\n",
       "      <th>validationAccuracy</th>\n",
       "    </tr>\n",
       "  </thead>\n",
       "  <tbody>\n",
       "    <tr>\n",
       "      <th>0</th>\n",
       "      <td>1</td>\n",
       "      <td>0.703272</td>\n",
       "      <td>0.704439</td>\n",
       "    </tr>\n",
       "    <tr>\n",
       "      <th>1</th>\n",
       "      <td>2</td>\n",
       "      <td>0.722544</td>\n",
       "      <td>0.723167</td>\n",
       "    </tr>\n",
       "    <tr>\n",
       "      <th>2</th>\n",
       "      <td>3</td>\n",
       "      <td>0.726386</td>\n",
       "      <td>0.726091</td>\n",
       "    </tr>\n",
       "    <tr>\n",
       "      <th>3</th>\n",
       "      <td>4</td>\n",
       "      <td>0.738994</td>\n",
       "      <td>0.739337</td>\n",
       "    </tr>\n",
       "    <tr>\n",
       "      <th>4</th>\n",
       "      <td>5</td>\n",
       "      <td>0.766457</td>\n",
       "      <td>0.766130</td>\n",
       "    </tr>\n",
       "  </tbody>\n",
       "</table>\n",
       "</div>"
      ],
      "text/plain": [
       "   maxDepth  trainingAccuracy  validationAccuracy\n",
       "0         1          0.703272            0.704439\n",
       "1         2          0.722544            0.723167\n",
       "2         3          0.726386            0.726091\n",
       "3         4          0.738994            0.739337\n",
       "4         5          0.766457            0.766130"
      ]
     },
     "execution_count": 21,
     "metadata": {
      "tags": []
     },
     "output_type": "execute_result"
    }
   ],
   "source": [
    "df = pd.DataFrame({'maxDepth': range(1,30), 'trainingAccuracy': trainAccuracy, 'validationAccuracy': validationAccuracy})\n",
    "df.head()"
   ]
  },
  {
   "cell_type": "code",
   "execution_count": null,
   "metadata": {
    "colab": {
     "base_uri": "https://localhost:8080/",
     "height": 388
    },
    "id": "dCw7Q-Nq7_G7",
    "outputId": "8c5ccd8c-7f59-40af-ee62-11b006537b26"
   },
   "outputs": [
    {
     "data": {
      "image/png": "[encoded data removed]",
      "text/plain": [
       "<Figure size 864x432 with 1 Axes>"
      ]
     },
     "metadata": {
      "needs_background": "light",
      "tags": []
     },
     "output_type": "display_data"
    }
   ],
   "source": [
    "plt.figure(figsize=(12,6))\n",
    "plt.plot(df['maxDepth'], df['trainingAccuracy'], '-o', label='Train')\n",
    "plt.plot(df['maxDepth'], df['validationAccuracy'], '-o', label='Validation')\n",
    "plt.xlabel('Depth of tree')\n",
    "plt.ylabel('Performance')\n",
    "plt.legend()\n",
    "plt.savefig('maxDepthAdjust.png')"
   ]
  },
  {
   "cell_type": "markdown",
   "metadata": {
    "id": "r0c4PDVQ9qD3"
   },
   "source": [
    "In the above graph we can see that the accuracy increases significantly to a max depth of 27 after which it evens out and slowly starts to decrease. Therefore using a max depth of 27 would yield the highest performance"
   ]
  },
  {
   "cell_type": "markdown",
   "metadata": {
    "id": "hD5CZ5BH_Con"
   },
   "source": [
    "Consfusion Matrix"
   ]
  },
  {
   "cell_type": "code",
   "execution_count": null,
   "metadata": {
    "colab": {
     "base_uri": "https://localhost:8080/"
    },
    "id": "0GDSHRwVGfa8",
    "outputId": "8350e86a-b4c4-480c-aae3-e0024b2735fb"
   },
   "outputs": [
    {
     "name": "stdout",
     "output_type": "stream",
     "text": [
      "[[   77   581    44   219]\n",
      " [   39 21922     7  2944]\n",
      " [   75    20 29804   220]\n",
      " [   53  7830   222  9471]]\n",
      "              precision    recall  f1-score   support\n",
      "\n",
      "         0.0       0.32      0.08      0.13       921\n",
      "         1.0       0.72      0.88      0.79     24912\n",
      "         2.0       0.99      0.99      0.99     30119\n",
      "         3.0       0.74      0.54      0.62     17576\n",
      "\n",
      "    accuracy                           0.83     73528\n",
      "   macro avg       0.69      0.62      0.63     73528\n",
      "weighted avg       0.83      0.83      0.82     73528\n",
      "\n"
     ]
    }
   ],
   "source": [
    "print(confusion_matrix(y_validation_encoded, yPred))\n",
    "print(classification_report(y_validation_encoded, yPred))"
   ]
  },
  {
   "cell_type": "code",
   "execution_count": null,
   "metadata": {
    "colab": {
     "base_uri": "https://localhost:8080/"
    },
    "id": "9CwoIQweH70e",
    "outputId": "68d57213-e729-4c38-e19d-4540df391eb6"
   },
   "outputs": [
    {
     "data": {
      "text/plain": [
       "0.8333424001740833"
      ]
     },
     "execution_count": 24,
     "metadata": {
      "tags": []
     },
     "output_type": "execute_result"
    }
   ],
   "source": [
    "accuracy_score(y_validation_encoded, yPred)"
   ]
  },
  {
   "cell_type": "markdown",
   "metadata": {
    "id": "GGou7XWZILOz"
   },
   "source": [
    "Feature importance"
   ]
  },
  {
   "cell_type": "code",
   "execution_count": null,
   "metadata": {
    "colab": {
     "base_uri": "https://localhost:8080/"
    },
    "id": "1puyFKZxINVL",
    "outputId": "807b1d95-06ff-47de-967a-8831326bc394"
   },
   "outputs": [
    {
     "name": "stdout",
     "output_type": "stream",
     "text": [
      "               feature  importance\n",
      "9  Case-Fatality_Ratio       0.643\n",
      "2    date_confirmation       0.101\n",
      "3          combinedKey       0.081\n",
      "6            Recovered       0.062\n",
      "1                  sex       0.047\n",
      "5               Deaths       0.026\n",
      "8       Incidence_Rate       0.017\n",
      "0                  age       0.014\n",
      "7               Active       0.008\n",
      "4            Confirmed       0.002\n"
     ]
    }
   ],
   "source": [
    "importance = pd.DataFrame({'feature': x_train_encoded.columns, 'importance' : np.round(dtModel.feature_importances_, 3)})\n",
    "importance.sort_values('importance', ascending=False, inplace = True)\n",
    "print(importance)"
   ]
  },
  {
   "cell_type": "markdown",
   "metadata": {
    "id": "gvKdx_TN_Hho"
   },
   "source": [
    "GridSearch CV Evaluation"
   ]
  },
  {
   "cell_type": "code",
   "execution_count": null,
   "metadata": {
    "id": "qGZZdNhsJdeU"
   },
   "outputs": [],
   "source": [
    "tuned_parameters = [{'max_depth': [1,2,3,4,5,6,7,8,9,10,11,12,13,14,15,16,17,18,19,20,21,22,23,24,25], \n",
    "                     'min_samples_split': [2,4,6,8,10]}]\n",
    "scores = ['recall']\n",
    "for score in scores:\n",
    "    \n",
    "    print()\n",
    "    print(f\"Tuning hyperparameters for {score}\")\n",
    "    print()\n",
    "    \n",
    "    dtModel = GridSearchCV(\n",
    "        DecisionTreeClassifier(), tuned_parameters,\n",
    "        scoring = f'{score}_macro'\n",
    "    )\n",
    "    dtModel.fit(x_train_encoded, y_train_encoded)\n",
    "    \n",
    "    print(\"Best parameters set found on development set:\")\n",
    "    print()\n",
    "    print(dtModel.best_params_)\n",
    "    print()\n",
    "    print(\"Grid scores on development set:\")\n",
    "    means = dtModel.cv_results_[\"mean_test_score\"]\n",
    "    stds = dtModel.cv_results_[\"std_test_score\"]\n",
    "    for mean, std, params in zip(means, stds,\n",
    "                                 dtModel.cv_results_['params']):\n",
    "        print(f\"{mean:0.3f} (+/-{std*2:0.03f}) for {params}\")"
   ]
  },
  {
   "cell_type": "markdown",
   "metadata": {
    "id": "K81y5_V1-xYF"
   },
   "source": [
    "**KNN Classifier**"
   ]
  },
  {
   "cell_type": "code",
   "execution_count": null,
   "metadata": {
    "id": "el8Z3ewght-p"
   },
   "outputs": [],
   "source": [
    "knnModel = KNeighborsClassifier(n_neighbors = 17)"
   ]
  },
  {
   "cell_type": "code",
   "execution_count": null,
   "metadata": {
    "colab": {
     "base_uri": "https://localhost:8080/"
    },
    "id": "da0kWV5HhxdM",
    "outputId": "f21dc756-4535-4183-b9f6-8ef22546bef2"
   },
   "outputs": [
    {
     "data": {
      "text/plain": [
       "KNeighborsClassifier(algorithm='auto', leaf_size=30, metric='minkowski',\n",
       "                     metric_params=None, n_jobs=None, n_neighbors=17, p=2,\n",
       "                     weights='uniform')"
      ]
     },
     "execution_count": 32,
     "metadata": {
      "tags": []
     },
     "output_type": "execute_result"
    }
   ],
   "source": [
    "knnModel.fit(x_train_encoded, np.ravel(y_train_encoded))"
   ]
  },
  {
   "cell_type": "code",
   "execution_count": null,
   "metadata": {
    "id": "rPiMXonGiyhR"
   },
   "outputs": [],
   "source": [
    "knnpklName = 'knn_classifier.pkl'\n",
    "knnModelpkl = open(knnpklName, 'wb')\n",
    "pickle.dump(knnModel, knnModelpkl)\n",
    "knnModelpkl.close()"
   ]
  },
  {
   "cell_type": "code",
   "execution_count": null,
   "metadata": {
    "colab": {
     "base_uri": "https://localhost:8080/"
    },
    "id": "oGJYom5EkTNP",
    "outputId": "657d68da-a9f3-41b8-dd45-6d0f9b71e193"
   },
   "outputs": [
    {
     "data": {
      "text/plain": [
       "0.824707250397813"
      ]
     },
     "execution_count": 34,
     "metadata": {
      "tags": []
     },
     "output_type": "execute_result"
    }
   ],
   "source": [
    "knnModel.score(x_train_encoded, y_train_encoded)"
   ]
  },
  {
   "cell_type": "code",
   "execution_count": null,
   "metadata": {
    "colab": {
     "base_uri": "https://localhost:8080/"
    },
    "id": "tr9hmw6bkiVB",
    "outputId": "0bb569b9-4dcd-48f1-e3b9-33097b7dabff"
   },
   "outputs": [
    {
     "data": {
      "text/plain": [
       "0.8229246001523229"
      ]
     },
     "execution_count": 35,
     "metadata": {
      "tags": []
     },
     "output_type": "execute_result"
    }
   ],
   "source": [
    "knnModel.score(x_validation_encoded, y_validation_encoded)"
   ]
  },
  {
   "cell_type": "code",
   "execution_count": null,
   "metadata": {
    "id": "iMcRoAmP-0Yr"
   },
   "outputs": [],
   "source": [
    "yPredKnn_train = knnModel.predict(x_train_encoded)"
   ]
  },
  {
   "cell_type": "code",
   "execution_count": null,
   "metadata": {
    "id": "EQ3CqgQxkm9w"
   },
   "outputs": [],
   "source": [
    "yPredKnn = knnModel.predict(x_validation_encoded)"
   ]
  },
  {
   "cell_type": "markdown",
   "metadata": {
    "id": "f69VjyMXkwlT"
   },
   "source": [
    "**Evaluating KNN**"
   ]
  },
  {
   "cell_type": "markdown",
   "metadata": {
    "id": "lls8y2SAdF3A"
   },
   "source": [
    "Adjusting Nearest Neighbor"
   ]
  },
  {
   "cell_type": "code",
   "execution_count": null,
   "metadata": {
    "id": "fQ4OJaxCdONA"
   },
   "outputs": [],
   "source": [
    "trainAccuracy = []\n",
    "validationAccuracy = []\n",
    "for n_neigh in range(1, 31):\n",
    "  sampleknnModel = KNeighborsClassifier(n_neighbors = n_neigh)\n",
    "  sampleknnModel.fit(x_train_encoded, np.ravel(y_train_encoded))\n",
    "  trainAccuracy.append(sampleknnModel.score(x_train_encoded, y_train_encoded))\n",
    "  validationAccuracy.append(sampleknnModel.score(x_validation_encoded, y_validation_encoded))"
   ]
  },
  {
   "cell_type": "code",
   "execution_count": null,
   "metadata": {
    "colab": {
     "base_uri": "https://localhost:8080/",
     "height": 204
    },
    "id": "eJuL1996d5gp",
    "outputId": "e385ea81-b69a-4434-8334-474c57b191ae"
   },
   "outputs": [
    {
     "data": {
      "text/html": [
       "<div>\n",
       "<style scoped>\n",
       "    .dataframe tbody tr th:only-of-type {\n",
       "        vertical-align: middle;\n",
       "    }\n",
       "\n",
       "    .dataframe tbody tr th {\n",
       "        vertical-align: top;\n",
       "    }\n",
       "\n",
       "    .dataframe thead th {\n",
       "        text-align: right;\n",
       "    }\n",
       "</style>\n",
       "<table border=\"1\" class=\"dataframe\">\n",
       "  <thead>\n",
       "    <tr style=\"text-align: right;\">\n",
       "      <th></th>\n",
       "      <th>n_neighbors</th>\n",
       "      <th>trainingAccuracy</th>\n",
       "      <th>validationAccuracy</th>\n",
       "    </tr>\n",
       "  </thead>\n",
       "  <tbody>\n",
       "    <tr>\n",
       "      <th>0</th>\n",
       "      <td>1</td>\n",
       "      <td>0.794082</td>\n",
       "      <td>0.784626</td>\n",
       "    </tr>\n",
       "    <tr>\n",
       "      <th>1</th>\n",
       "      <td>2</td>\n",
       "      <td>0.790798</td>\n",
       "      <td>0.784721</td>\n",
       "    </tr>\n",
       "    <tr>\n",
       "      <th>2</th>\n",
       "      <td>3</td>\n",
       "      <td>0.802794</td>\n",
       "      <td>0.799083</td>\n",
       "    </tr>\n",
       "    <tr>\n",
       "      <th>3</th>\n",
       "      <td>4</td>\n",
       "      <td>0.810553</td>\n",
       "      <td>0.806781</td>\n",
       "    </tr>\n",
       "    <tr>\n",
       "      <th>4</th>\n",
       "      <td>5</td>\n",
       "      <td>0.809964</td>\n",
       "      <td>0.806455</td>\n",
       "    </tr>\n",
       "  </tbody>\n",
       "</table>\n",
       "</div>"
      ],
      "text/plain": [
       "   n_neighbors  trainingAccuracy  validationAccuracy\n",
       "0            1          0.794082            0.784626\n",
       "1            2          0.790798            0.784721\n",
       "2            3          0.802794            0.799083\n",
       "3            4          0.810553            0.806781\n",
       "4            5          0.809964            0.806455"
      ]
     },
     "execution_count": 17,
     "metadata": {
      "tags": []
     },
     "output_type": "execute_result"
    }
   ],
   "source": [
    "df = pd.DataFrame({'n_neighbors': range(1,31), 'trainingAccuracy': trainAccuracy, 'validationAccuracy': validationAccuracy})\n",
    "df.head()"
   ]
  },
  {
   "cell_type": "code",
   "execution_count": null,
   "metadata": {
    "colab": {
     "base_uri": "https://localhost:8080/",
     "height": 405
    },
    "id": "Ww_SYXOOlgzA",
    "outputId": "98ab431c-c910-4eec-fe52-de2b10e41a63"
   },
   "outputs": [
    {
     "data": {
      "text/plain": [
       "<matplotlib.legend.Legend at 0x7faba18d2690>"
      ]
     },
     "execution_count": 18,
     "metadata": {
      "tags": []
     },
     "output_type": "execute_result"
    },
    {
     "data": {
      "image/png": "[encoded data removed]",
      "text/plain": [
       "<Figure size 864x432 with 1 Axes>"
      ]
     },
     "metadata": {
      "needs_background": "light",
      "tags": []
     },
     "output_type": "display_data"
    }
   ],
   "source": [
    "plt.figure(figsize=(12,6))\n",
    "plt.plot(df['n_neighbors'], df['trainingAccuracy'], '-o', label='Train')\n",
    "plt.plot(df['n_neighbors'], df['validationAccuracy'], '-o', label='Validation')\n",
    "plt.xlabel('Nearest Neighbors')\n",
    "plt.ylabel('Performance')\n",
    "plt.legend()"
   ]
  },
  {
   "cell_type": "markdown",
   "metadata": {
    "id": "8cTKS6jUlijh"
   },
   "source": [
    "Confusion Matrix"
   ]
  },
  {
   "cell_type": "code",
   "execution_count": null,
   "metadata": {
    "colab": {
     "base_uri": "https://localhost:8080/"
    },
    "id": "UB5P-FFh91Jp",
    "outputId": "dc09b654-c456-4b2c-c796-ecb0fa1990db"
   },
   "outputs": [
    {
     "name": "stdout",
     "output_type": "stream",
     "text": [
      "[[   156   2148    322    952]\n",
      " [    14  84233    122  15719]\n",
      " [    41     60 119026    754]\n",
      " [    39  30100   1284  39138]]\n",
      "              precision    recall  f1-score   support\n",
      "\n",
      "         0.0       0.62      0.04      0.08      3578\n",
      "         1.0       0.72      0.84      0.78    100088\n",
      "         2.0       0.99      0.99      0.99    119881\n",
      "         3.0       0.69      0.55      0.62     70561\n",
      "\n",
      "    accuracy                           0.82    294108\n",
      "   macro avg       0.76      0.61      0.62    294108\n",
      "weighted avg       0.82      0.82      0.82    294108\n",
      "\n"
     ]
    }
   ],
   "source": [
    "print(confusion_matrix(y_train_encoded, yPredKnn_train))\n",
    "print(classification_report(y_train_encoded, yPredKnn_train))"
   ]
  },
  {
   "cell_type": "code",
   "execution_count": null,
   "metadata": {
    "colab": {
     "base_uri": "https://localhost:8080/"
    },
    "id": "48_5v4nzDjBI",
    "outputId": "4a402b08-d712-498e-e0ec-32c58b24d064"
   },
   "outputs": [
    {
     "name": "stdout",
     "output_type": "stream",
     "text": [
      "Accuracy Train 82.47%\n"
     ]
    }
   ],
   "source": [
    "print(\"Accuracy Train {0:.2f}%\".format(100*accuracy_score(y_train_encoded, yPredKnn_train)))"
   ]
  },
  {
   "cell_type": "code",
   "execution_count": null,
   "metadata": {
    "colab": {
     "base_uri": "https://localhost:8080/"
    },
    "id": "ciAq4kCAk7fY",
    "outputId": "645d011f-a561-4583-95ee-0544a014b926"
   },
   "outputs": [
    {
     "name": "stdout",
     "output_type": "stream",
     "text": [
      "[[   31   561    79   250]\n",
      " [    4 21012    26  3870]\n",
      " [   13    25 29836   245]\n",
      " [   12  7585   350  9629]]\n",
      "              precision    recall  f1-score   support\n",
      "\n",
      "         0.0       0.52      0.03      0.06       921\n",
      "         1.0       0.72      0.84      0.78     24912\n",
      "         2.0       0.98      0.99      0.99     30119\n",
      "         3.0       0.69      0.55      0.61     17576\n",
      "\n",
      "    accuracy                           0.82     73528\n",
      "   macro avg       0.73      0.60      0.61     73528\n",
      "weighted avg       0.82      0.82      0.81     73528\n",
      "\n"
     ]
    }
   ],
   "source": [
    "print(confusion_matrix(y_validation_encoded, yPredKnn))\n",
    "print(classification_report(y_validation_encoded, yPredKnn))"
   ]
  },
  {
   "cell_type": "code",
   "execution_count": null,
   "metadata": {
    "colab": {
     "base_uri": "https://localhost:8080/"
    },
    "id": "0qN_DN-Ulbdf",
    "outputId": "07e1b0f7-483e-400a-879e-909dd17c5f52"
   },
   "outputs": [
    {
     "name": "stdout",
     "output_type": "stream",
     "text": [
      "Accuracy Validation 82.29%\n"
     ]
    }
   ],
   "source": [
    "print(\"Accuracy Validation {0:.2f}%\".format(100*accuracy_score(y_validation_encoded, yPredKnn)))"
   ]
  }
 ],
 "metadata": {
  "colab": {
   "collapsed_sections": [],
   "name": "Milestone2.ipynb",
   "provenance": [],
   "toc_visible": true
  },
  "kernelspec": {
   "display_name": "Python 3",
   "language": "python",
   "name": "python3"
  },
  "language_info": {
   "codemirror_mode": {
    "name": "ipython",
    "version": 3
   },
   "file_extension": ".py",
   "mimetype": "text/x-python",
   "name": "python",
   "nbconvert_exporter": "python",
   "pygments_lexer": "ipython3",
   "version": "3.8.5"
  }
 },
 "nbformat": 4,
 "nbformat_minor": 1
}
