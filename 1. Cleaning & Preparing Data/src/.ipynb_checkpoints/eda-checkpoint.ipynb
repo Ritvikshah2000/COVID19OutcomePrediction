{
 "cells": [
  {
   "cell_type": "markdown",
   "metadata": {
    "id": "hhlGaKvWSXLC"
   },
   "source": [
    "#Import Libraries"
   ]
  },
  {
   "cell_type": "code",
   "execution_count": 11,
   "metadata": {
    "colab": {
     "base_uri": "https://localhost:8080/"
    },
    "id": "NaM0ydA1SaZ4",
    "outputId": "01cb66b7-4ca0-4fee-89ac-14629baf82bc"
   },
   "outputs": [
    {
     "name": "stdout",
     "output_type": "stream",
     "text": [
      "Requirement already satisfied: pandas in c:\\users\\jusun\\anaconda3\\lib\\site-packages (1.1.3)\n",
      "Requirement already satisfied: python-dateutil>=2.7.3 in c:\\users\\jusun\\anaconda3\\lib\\site-packages (from pandas) (2.8.1)\n",
      "Requirement already satisfied: pytz>=2017.2 in c:\\users\\jusun\\anaconda3\\lib\\site-packages (from pandas) (2020.1)\n",
      "Requirement already satisfied: numpy>=1.15.4 in c:\\users\\jusun\\anaconda3\\lib\\site-packages (from pandas) (1.19.2)\n",
      "Requirement already satisfied: six>=1.5 in c:\\users\\jusun\\anaconda3\\lib\\site-packages (from python-dateutil>=2.7.3->pandas) (1.15.0)\n",
      "Requirement already satisfied: numpy in c:\\users\\jusun\\anaconda3\\lib\\site-packages (1.19.2)\n",
      "Requirement already satisfied: seaborn in c:\\users\\jusun\\anaconda3\\lib\\site-packages (0.11.0)\n",
      "Requirement already satisfied: matplotlib>=2.2 in c:\\users\\jusun\\anaconda3\\lib\\site-packages (from seaborn) (3.3.2)\n",
      "Requirement already satisfied: scipy>=1.0 in c:\\users\\jusun\\anaconda3\\lib\\site-packages (from seaborn) (1.5.2)\n",
      "Requirement already satisfied: pandas>=0.23 in c:\\users\\jusun\\anaconda3\\lib\\site-packages (from seaborn) (1.1.3)\n",
      "Requirement already satisfied: numpy>=1.15 in c:\\users\\jusun\\anaconda3\\lib\\site-packages (from seaborn) (1.19.2)\n",
      "Requirement already satisfied: cycler>=0.10 in c:\\users\\jusun\\anaconda3\\lib\\site-packages (from matplotlib>=2.2->seaborn) (0.10.0)\n",
      "Requirement already satisfied: python-dateutil>=2.1 in c:\\users\\jusun\\anaconda3\\lib\\site-packages (from matplotlib>=2.2->seaborn) (2.8.1)\n",
      "Requirement already satisfied: pyparsing!=2.0.4,!=2.1.2,!=2.1.6,>=2.0.3 in c:\\users\\jusun\\anaconda3\\lib\\site-packages (from matplotlib>=2.2->seaborn) (2.4.7)\n",
      "Requirement already satisfied: kiwisolver>=1.0.1 in c:\\users\\jusun\\anaconda3\\lib\\site-packages (from matplotlib>=2.2->seaborn) (1.3.0)\n",
      "Requirement already satisfied: certifi>=2020.06.20 in c:\\users\\jusun\\anaconda3\\lib\\site-packages (from matplotlib>=2.2->seaborn) (2020.6.20)\n",
      "Requirement already satisfied: pillow>=6.2.0 in c:\\users\\jusun\\anaconda3\\lib\\site-packages (from matplotlib>=2.2->seaborn) (8.0.1)\n",
      "Requirement already satisfied: pytz>=2017.2 in c:\\users\\jusun\\anaconda3\\lib\\site-packages (from pandas>=0.23->seaborn) (2020.1)\n",
      "Requirement already satisfied: six in c:\\users\\jusun\\anaconda3\\lib\\site-packages (from cycler>=0.10->matplotlib>=2.2->seaborn) (1.15.0)\n"
     ]
    }
   ],
   "source": [
    "!pip install pandas\n",
    "!pip install numpy\n",
    "!pip install seaborn"
   ]
  },
  {
   "cell_type": "code",
   "execution_count": 12,
   "metadata": {
    "id": "YkfMZgLCTOPQ"
   },
   "outputs": [],
   "source": [
    "import pandas as pd\n",
    "import numpy as np\n",
    "import math\n",
    "import seaborn as sns\n",
    "from scipy import stats"
   ]
  },
  {
   "cell_type": "code",
   "execution_count": 13,
   "metadata": {
    "id": "x54HuL0tTUrK"
   },
   "outputs": [],
   "source": [
    "casesTrain = pd.read_csv('https://raw.githubusercontent.com/MadanKrishnan97/CMPT459CourseProjectSpring2021/main/dataset/cases_train.csv')\n",
    "location = pd.read_csv('https://raw.githubusercontent.com/MadanKrishnan97/CMPT459CourseProjectSpring2021/main/dataset/location.csv')\n",
    "population = pd.read_csv('https://raw.githubusercontent.com/CSSEGISandData/COVID-19/master/csse_covid_19_data/UID_ISO_FIPS_LookUp_Table.csv')\n"
   ]
  },
  {
   "cell_type": "markdown",
   "metadata": {
    "id": "tIDO8a96Ur6S"
   },
   "source": [
    "#1.1 Exploratory Data Analysis"
   ]
  },
  {
   "cell_type": "code",
   "execution_count": 14,
   "metadata": {
    "id": "AUwI2O-hQXEy"
   },
   "outputs": [],
   "source": [
    "def cleanAge(age):\n",
    "    if type(age) == float:\n",
    "        if age < 1:\n",
    "            return 1\n",
    "        return int(math.ceil(float(age)))\n",
    "    if type(age) != int and '+' in age:\n",
    "        split_age = age.split(\"+\")\n",
    "        return int(split_age[0])\n",
    "    if type(age) != int and 'month' in age:\n",
    "        return 1\n",
    "    if type(age) != int and 'May' in age:\n",
    "        return 1\n",
    "    if type(age) != int and 'Oct' in age:\n",
    "        return 1\n",
    "    if type(age) != int and '-' in age:\n",
    "        split_age = age.split(\"-\")\n",
    "        lower_age = int(split_age[0])\n",
    "        if split_age[1] != '':\n",
    "            upper_age = int(split_age[1])\n",
    "        else:\n",
    "            upper_age = 0\n",
    "        avg_age = math.floor((lower_age + upper_age)/2)\n",
    "        return int(avg_age)\n",
    "    return int(math.ceil(float(age)))\n",
    "    \n",
    "def getAverageAge(ages):\n",
    "    count = 0\n",
    "    total = 0\n",
    "    for age in ages:\n",
    "        if age != -1 and type(age) == int:\n",
    "            count = count + 1\n",
    "            total += age\n",
    "    return math.floor(total/count)  \n",
    "\n",
    "def cleanCases(data):\n",
    "    data = data.drop(['source', 'additional_information'], axis=1) ## drop irrelevant columns\n",
    "    data.age.fillna(-1, inplace=True) ## replace all Nan with -1\n",
    "    data.sex.fillna('unknown', inplace=True) ## replace all Nan with -1\n",
    "    data['age'] = data.age.apply(cleanAge)  ## format all ages. If age is a range get the middle of range, if range is float convert to int. All months and fractional ages are bumped to age 1\n",
    "    avg = getAverageAge(data['age'])\n",
    "    data['age'] = data['age'].replace({-1:avg})   ## replace Nan(-1) with average age rounded down\n",
    "    data['date_confirmation'] = data['date_confirmation'].replace({'\\.':'/'}, regex=True)\n",
    "    data['date_confirmation'] = data['date_confirmation'].str.slice(0,10)\n",
    "    data['date_confirmation'] = pd.to_datetime(data['date_confirmation'])\n",
    "    return data\n",
    "\n",
    "def addCombineKey(data, countryInd, provinceInd):\n",
    "    data['combinedKey'] = ''\n",
    "    for ind in data.index:\n",
    "      country = data.iloc[ind,countryInd]\n",
    "      province = data.iloc[ind,provinceInd]\n",
    "      if pd.isna(data.iloc[ind,provinceInd]) == True:\n",
    "        data.at[ind,\"combinedKey\"] = country\n",
    "      else:\n",
    "        joined = str(province) + \", \" + str(country)\n",
    "        data.at[ind,\"combinedKey\"] = joined \n",
    "    return data"
   ]
  },
  {
   "cell_type": "code",
   "execution_count": 15,
   "metadata": {
    "id": "8-gCKtV0OBMh"
   },
   "outputs": [
    {
     "data": {
      "text/html": [
       "<div>\n",
       "<style scoped>\n",
       "    .dataframe tbody tr th:only-of-type {\n",
       "        vertical-align: middle;\n",
       "    }\n",
       "\n",
       "    .dataframe tbody tr th {\n",
       "        vertical-align: top;\n",
       "    }\n",
       "\n",
       "    .dataframe thead th {\n",
       "        text-align: right;\n",
       "    }\n",
       "</style>\n",
       "<table border=\"1\" class=\"dataframe\">\n",
       "  <thead>\n",
       "    <tr style=\"text-align: right;\">\n",
       "      <th></th>\n",
       "      <th>age</th>\n",
       "      <th>sex</th>\n",
       "      <th>province</th>\n",
       "      <th>country</th>\n",
       "      <th>latitude</th>\n",
       "      <th>longitude</th>\n",
       "      <th>date_confirmation</th>\n",
       "      <th>outcome</th>\n",
       "      <th>combinedKey</th>\n",
       "    </tr>\n",
       "  </thead>\n",
       "  <tbody>\n",
       "    <tr>\n",
       "      <th>0</th>\n",
       "      <td>43</td>\n",
       "      <td>unknown</td>\n",
       "      <td>Delhi</td>\n",
       "      <td>India</td>\n",
       "      <td>28.614740</td>\n",
       "      <td>77.209100</td>\n",
       "      <td>2020-05-26</td>\n",
       "      <td>recovered</td>\n",
       "      <td>Delhi, India</td>\n",
       "    </tr>\n",
       "    <tr>\n",
       "      <th>1</th>\n",
       "      <td>43</td>\n",
       "      <td>unknown</td>\n",
       "      <td>Uttar Pradesh</td>\n",
       "      <td>India</td>\n",
       "      <td>25.436090</td>\n",
       "      <td>81.847180</td>\n",
       "      <td>2020-05-20</td>\n",
       "      <td>hospitalized</td>\n",
       "      <td>Uttar Pradesh, India</td>\n",
       "    </tr>\n",
       "    <tr>\n",
       "      <th>2</th>\n",
       "      <td>43</td>\n",
       "      <td>unknown</td>\n",
       "      <td>Maharashtra</td>\n",
       "      <td>India</td>\n",
       "      <td>18.504220</td>\n",
       "      <td>73.853020</td>\n",
       "      <td>2020-05-26</td>\n",
       "      <td>hospitalized</td>\n",
       "      <td>Maharashtra, India</td>\n",
       "    </tr>\n",
       "    <tr>\n",
       "      <th>3</th>\n",
       "      <td>24</td>\n",
       "      <td>female</td>\n",
       "      <td>Baden-Wurttemberg</td>\n",
       "      <td>Germany</td>\n",
       "      <td>48.120860</td>\n",
       "      <td>7.849500</td>\n",
       "      <td>2020-03-15</td>\n",
       "      <td>nonhospitalized</td>\n",
       "      <td>Baden-Wurttemberg, Germany</td>\n",
       "    </tr>\n",
       "    <tr>\n",
       "      <th>4</th>\n",
       "      <td>43</td>\n",
       "      <td>unknown</td>\n",
       "      <td>Gujarat</td>\n",
       "      <td>India</td>\n",
       "      <td>23.188409</td>\n",
       "      <td>73.647122</td>\n",
       "      <td>2020-05-20</td>\n",
       "      <td>hospitalized</td>\n",
       "      <td>Gujarat, India</td>\n",
       "    </tr>\n",
       "    <tr>\n",
       "      <th>...</th>\n",
       "      <td>...</td>\n",
       "      <td>...</td>\n",
       "      <td>...</td>\n",
       "      <td>...</td>\n",
       "      <td>...</td>\n",
       "      <td>...</td>\n",
       "      <td>...</td>\n",
       "      <td>...</td>\n",
       "      <td>...</td>\n",
       "    </tr>\n",
       "    <tr>\n",
       "      <th>367631</th>\n",
       "      <td>15</td>\n",
       "      <td>male</td>\n",
       "      <td>Santa Fe</td>\n",
       "      <td>Argentina</td>\n",
       "      <td>-32.967800</td>\n",
       "      <td>-60.659240</td>\n",
       "      <td>2020-03-31</td>\n",
       "      <td>nonhospitalized</td>\n",
       "      <td>Santa Fe, Argentina</td>\n",
       "    </tr>\n",
       "    <tr>\n",
       "      <th>367632</th>\n",
       "      <td>43</td>\n",
       "      <td>unknown</td>\n",
       "      <td>Delhi</td>\n",
       "      <td>India</td>\n",
       "      <td>28.614740</td>\n",
       "      <td>77.209100</td>\n",
       "      <td>2020-04-16</td>\n",
       "      <td>hospitalized</td>\n",
       "      <td>Delhi, India</td>\n",
       "    </tr>\n",
       "    <tr>\n",
       "      <th>367633</th>\n",
       "      <td>43</td>\n",
       "      <td>unknown</td>\n",
       "      <td>Maharashtra</td>\n",
       "      <td>India</td>\n",
       "      <td>19.200000</td>\n",
       "      <td>72.966670</td>\n",
       "      <td>2020-05-30</td>\n",
       "      <td>hospitalized</td>\n",
       "      <td>Maharashtra, India</td>\n",
       "    </tr>\n",
       "    <tr>\n",
       "      <th>367634</th>\n",
       "      <td>28</td>\n",
       "      <td>female</td>\n",
       "      <td>NaN</td>\n",
       "      <td>Singapore</td>\n",
       "      <td>1.280224</td>\n",
       "      <td>103.834500</td>\n",
       "      <td>2020-03-02</td>\n",
       "      <td>recovered</td>\n",
       "      <td>Singapore</td>\n",
       "    </tr>\n",
       "    <tr>\n",
       "      <th>367635</th>\n",
       "      <td>1</td>\n",
       "      <td>female</td>\n",
       "      <td>Sullana</td>\n",
       "      <td>Peru</td>\n",
       "      <td>-4.907630</td>\n",
       "      <td>-80.697330</td>\n",
       "      <td>2020-05-27</td>\n",
       "      <td>nonhospitalized</td>\n",
       "      <td>Sullana, Peru</td>\n",
       "    </tr>\n",
       "  </tbody>\n",
       "</table>\n",
       "<p>367636 rows × 9 columns</p>\n",
       "</div>"
      ],
      "text/plain": [
       "        age      sex           province    country   latitude   longitude  \\\n",
       "0        43  unknown              Delhi      India  28.614740   77.209100   \n",
       "1        43  unknown      Uttar Pradesh      India  25.436090   81.847180   \n",
       "2        43  unknown        Maharashtra      India  18.504220   73.853020   \n",
       "3        24   female  Baden-Wurttemberg    Germany  48.120860    7.849500   \n",
       "4        43  unknown            Gujarat      India  23.188409   73.647122   \n",
       "...     ...      ...                ...        ...        ...         ...   \n",
       "367631   15     male           Santa Fe  Argentina -32.967800  -60.659240   \n",
       "367632   43  unknown              Delhi      India  28.614740   77.209100   \n",
       "367633   43  unknown        Maharashtra      India  19.200000   72.966670   \n",
       "367634   28   female                NaN  Singapore   1.280224  103.834500   \n",
       "367635    1   female            Sullana       Peru  -4.907630  -80.697330   \n",
       "\n",
       "       date_confirmation          outcome                 combinedKey  \n",
       "0             2020-05-26        recovered                Delhi, India  \n",
       "1             2020-05-20     hospitalized        Uttar Pradesh, India  \n",
       "2             2020-05-26     hospitalized          Maharashtra, India  \n",
       "3             2020-03-15  nonhospitalized  Baden-Wurttemberg, Germany  \n",
       "4             2020-05-20     hospitalized              Gujarat, India  \n",
       "...                  ...              ...                         ...  \n",
       "367631        2020-03-31  nonhospitalized         Santa Fe, Argentina  \n",
       "367632        2020-04-16     hospitalized                Delhi, India  \n",
       "367633        2020-05-30     hospitalized          Maharashtra, India  \n",
       "367634        2020-03-02        recovered                   Singapore  \n",
       "367635        2020-05-27  nonhospitalized               Sullana, Peru  \n",
       "\n",
       "[367636 rows x 9 columns]"
      ]
     },
     "execution_count": 15,
     "metadata": {},
     "output_type": "execute_result"
    }
   ],
   "source": [
    "casesTrain.loc[casesTrain['country'] == 'United States', 'country'] = 'US'\n",
    "casesTrain = cleanCases(casesTrain)\n",
    "addCombineKey(casesTrain, 3, 2)"
   ]
  },
  {
   "cell_type": "code",
   "execution_count": 16,
   "metadata": {
    "colab": {
     "base_uri": "https://localhost:8080/",
     "height": 296
    },
    "id": "cPpU5NpXD_n8",
    "outputId": "0d3322b7-5e26-4b43-b901-57d55fabc368"
   },
   "outputs": [
    {
     "data": {
      "image/png": "[encoded data removed]",
      "text/plain": [
       "<Figure size 432x288 with 1 Axes>"
      ]
     },
     "metadata": {
      "needs_background": "light"
     },
     "output_type": "display_data"
    }
   ],
   "source": [
    "plot = sns.barplot(data=casesTrain, x='outcome', y='age', hue='sex')\n",
    "plot.figure.savefig(\"../plots/casesvsAgebySexBarPlot.png\")"
   ]
  },
  {
   "cell_type": "code",
   "execution_count": 17,
   "metadata": {
    "colab": {
     "base_uri": "https://localhost:8080/",
     "height": 296
    },
    "id": "qA3fIbkgJ8uV",
    "outputId": "93bd34d1-41bf-4d7b-f306-ff869e649b82"
   },
   "outputs": [
    {
     "ename": "FileNotFoundError",
     "evalue": "[Errno 2] No such file or directory: 'plots/casesTrainViolinPlot.png'",
     "output_type": "error",
     "traceback": [
      "\u001b[1;31m---------------------------------------------------------------------------\u001b[0m",
      "\u001b[1;31mFileNotFoundError\u001b[0m                         Traceback (most recent call last)",
      "\u001b[1;32m<ipython-input-17-56ffd84f02fa>\u001b[0m in \u001b[0;36m<module>\u001b[1;34m\u001b[0m\n\u001b[0;32m      1\u001b[0m \u001b[0mplot\u001b[0m \u001b[1;33m=\u001b[0m \u001b[0msns\u001b[0m\u001b[1;33m.\u001b[0m\u001b[0mviolinplot\u001b[0m\u001b[1;33m(\u001b[0m\u001b[0mdata\u001b[0m\u001b[1;33m=\u001b[0m\u001b[0mcasesTrain\u001b[0m\u001b[1;33m,\u001b[0m \u001b[0mx\u001b[0m\u001b[1;33m=\u001b[0m\u001b[1;34m'outcome'\u001b[0m\u001b[1;33m,\u001b[0m \u001b[0my\u001b[0m\u001b[1;33m=\u001b[0m\u001b[1;34m'age'\u001b[0m\u001b[1;33m,\u001b[0m \u001b[0mhue\u001b[0m\u001b[1;33m=\u001b[0m\u001b[1;34m'sex'\u001b[0m\u001b[1;33m)\u001b[0m\u001b[1;33m\u001b[0m\u001b[1;33m\u001b[0m\u001b[0m\n\u001b[1;32m----> 2\u001b[1;33m \u001b[0mplot\u001b[0m\u001b[1;33m.\u001b[0m\u001b[0mfigure\u001b[0m\u001b[1;33m.\u001b[0m\u001b[0msavefig\u001b[0m\u001b[1;33m(\u001b[0m\u001b[1;34m\"plots/casesTrainViolinPlot.png\"\u001b[0m\u001b[1;33m)\u001b[0m\u001b[1;33m\u001b[0m\u001b[1;33m\u001b[0m\u001b[0m\n\u001b[0m",
      "\u001b[1;32m~\\anaconda3\\lib\\site-packages\\matplotlib\\figure.py\u001b[0m in \u001b[0;36msavefig\u001b[1;34m(self, fname, transparent, **kwargs)\u001b[0m\n\u001b[0;32m   2309\u001b[0m                 \u001b[0mpatch\u001b[0m\u001b[1;33m.\u001b[0m\u001b[0mset_edgecolor\u001b[0m\u001b[1;33m(\u001b[0m\u001b[1;34m'none'\u001b[0m\u001b[1;33m)\u001b[0m\u001b[1;33m\u001b[0m\u001b[1;33m\u001b[0m\u001b[0m\n\u001b[0;32m   2310\u001b[0m \u001b[1;33m\u001b[0m\u001b[0m\n\u001b[1;32m-> 2311\u001b[1;33m         \u001b[0mself\u001b[0m\u001b[1;33m.\u001b[0m\u001b[0mcanvas\u001b[0m\u001b[1;33m.\u001b[0m\u001b[0mprint_figure\u001b[0m\u001b[1;33m(\u001b[0m\u001b[0mfname\u001b[0m\u001b[1;33m,\u001b[0m \u001b[1;33m**\u001b[0m\u001b[0mkwargs\u001b[0m\u001b[1;33m)\u001b[0m\u001b[1;33m\u001b[0m\u001b[1;33m\u001b[0m\u001b[0m\n\u001b[0m\u001b[0;32m   2312\u001b[0m \u001b[1;33m\u001b[0m\u001b[0m\n\u001b[0;32m   2313\u001b[0m         \u001b[1;32mif\u001b[0m \u001b[0mtransparent\u001b[0m\u001b[1;33m:\u001b[0m\u001b[1;33m\u001b[0m\u001b[1;33m\u001b[0m\u001b[0m\n",
      "\u001b[1;32m~\\anaconda3\\lib\\site-packages\\matplotlib\\backend_bases.py\u001b[0m in \u001b[0;36mprint_figure\u001b[1;34m(self, filename, dpi, facecolor, edgecolor, orientation, format, bbox_inches, pad_inches, bbox_extra_artists, backend, **kwargs)\u001b[0m\n\u001b[0;32m   2208\u001b[0m \u001b[1;33m\u001b[0m\u001b[0m\n\u001b[0;32m   2209\u001b[0m             \u001b[1;32mtry\u001b[0m\u001b[1;33m:\u001b[0m\u001b[1;33m\u001b[0m\u001b[1;33m\u001b[0m\u001b[0m\n\u001b[1;32m-> 2210\u001b[1;33m                 result = print_method(\n\u001b[0m\u001b[0;32m   2211\u001b[0m                     \u001b[0mfilename\u001b[0m\u001b[1;33m,\u001b[0m\u001b[1;33m\u001b[0m\u001b[1;33m\u001b[0m\u001b[0m\n\u001b[0;32m   2212\u001b[0m                     \u001b[0mdpi\u001b[0m\u001b[1;33m=\u001b[0m\u001b[0mdpi\u001b[0m\u001b[1;33m,\u001b[0m\u001b[1;33m\u001b[0m\u001b[1;33m\u001b[0m\u001b[0m\n",
      "\u001b[1;32m~\\anaconda3\\lib\\site-packages\\matplotlib\\backend_bases.py\u001b[0m in \u001b[0;36mwrapper\u001b[1;34m(*args, **kwargs)\u001b[0m\n\u001b[0;32m   1637\u001b[0m             \u001b[0mkwargs\u001b[0m\u001b[1;33m.\u001b[0m\u001b[0mpop\u001b[0m\u001b[1;33m(\u001b[0m\u001b[0marg\u001b[0m\u001b[1;33m)\u001b[0m\u001b[1;33m\u001b[0m\u001b[1;33m\u001b[0m\u001b[0m\n\u001b[0;32m   1638\u001b[0m \u001b[1;33m\u001b[0m\u001b[0m\n\u001b[1;32m-> 1639\u001b[1;33m         \u001b[1;32mreturn\u001b[0m \u001b[0mfunc\u001b[0m\u001b[1;33m(\u001b[0m\u001b[1;33m*\u001b[0m\u001b[0margs\u001b[0m\u001b[1;33m,\u001b[0m \u001b[1;33m**\u001b[0m\u001b[0mkwargs\u001b[0m\u001b[1;33m)\u001b[0m\u001b[1;33m\u001b[0m\u001b[1;33m\u001b[0m\u001b[0m\n\u001b[0m\u001b[0;32m   1640\u001b[0m \u001b[1;33m\u001b[0m\u001b[0m\n\u001b[0;32m   1641\u001b[0m     \u001b[1;32mreturn\u001b[0m \u001b[0mwrapper\u001b[0m\u001b[1;33m\u001b[0m\u001b[1;33m\u001b[0m\u001b[0m\n",
      "\u001b[1;32m~\\anaconda3\\lib\\site-packages\\matplotlib\\backends\\backend_agg.py\u001b[0m in \u001b[0;36mprint_png\u001b[1;34m(self, filename_or_obj, metadata, pil_kwargs, *args)\u001b[0m\n\u001b[0;32m    508\u001b[0m         \"\"\"\n\u001b[0;32m    509\u001b[0m         \u001b[0mFigureCanvasAgg\u001b[0m\u001b[1;33m.\u001b[0m\u001b[0mdraw\u001b[0m\u001b[1;33m(\u001b[0m\u001b[0mself\u001b[0m\u001b[1;33m)\u001b[0m\u001b[1;33m\u001b[0m\u001b[1;33m\u001b[0m\u001b[0m\n\u001b[1;32m--> 510\u001b[1;33m         mpl.image.imsave(\n\u001b[0m\u001b[0;32m    511\u001b[0m             \u001b[0mfilename_or_obj\u001b[0m\u001b[1;33m,\u001b[0m \u001b[0mself\u001b[0m\u001b[1;33m.\u001b[0m\u001b[0mbuffer_rgba\u001b[0m\u001b[1;33m(\u001b[0m\u001b[1;33m)\u001b[0m\u001b[1;33m,\u001b[0m \u001b[0mformat\u001b[0m\u001b[1;33m=\u001b[0m\u001b[1;34m\"png\"\u001b[0m\u001b[1;33m,\u001b[0m \u001b[0morigin\u001b[0m\u001b[1;33m=\u001b[0m\u001b[1;34m\"upper\"\u001b[0m\u001b[1;33m,\u001b[0m\u001b[1;33m\u001b[0m\u001b[1;33m\u001b[0m\u001b[0m\n\u001b[0;32m    512\u001b[0m             dpi=self.figure.dpi, metadata=metadata, pil_kwargs=pil_kwargs)\n",
      "\u001b[1;32m~\\anaconda3\\lib\\site-packages\\matplotlib\\image.py\u001b[0m in \u001b[0;36mimsave\u001b[1;34m(fname, arr, vmin, vmax, cmap, format, origin, dpi, metadata, pil_kwargs)\u001b[0m\n\u001b[0;32m   1603\u001b[0m         \u001b[0mpil_kwargs\u001b[0m\u001b[1;33m.\u001b[0m\u001b[0msetdefault\u001b[0m\u001b[1;33m(\u001b[0m\u001b[1;34m\"format\"\u001b[0m\u001b[1;33m,\u001b[0m \u001b[0mformat\u001b[0m\u001b[1;33m)\u001b[0m\u001b[1;33m\u001b[0m\u001b[1;33m\u001b[0m\u001b[0m\n\u001b[0;32m   1604\u001b[0m         \u001b[0mpil_kwargs\u001b[0m\u001b[1;33m.\u001b[0m\u001b[0msetdefault\u001b[0m\u001b[1;33m(\u001b[0m\u001b[1;34m\"dpi\"\u001b[0m\u001b[1;33m,\u001b[0m \u001b[1;33m(\u001b[0m\u001b[0mdpi\u001b[0m\u001b[1;33m,\u001b[0m \u001b[0mdpi\u001b[0m\u001b[1;33m)\u001b[0m\u001b[1;33m)\u001b[0m\u001b[1;33m\u001b[0m\u001b[1;33m\u001b[0m\u001b[0m\n\u001b[1;32m-> 1605\u001b[1;33m         \u001b[0mimage\u001b[0m\u001b[1;33m.\u001b[0m\u001b[0msave\u001b[0m\u001b[1;33m(\u001b[0m\u001b[0mfname\u001b[0m\u001b[1;33m,\u001b[0m \u001b[1;33m**\u001b[0m\u001b[0mpil_kwargs\u001b[0m\u001b[1;33m)\u001b[0m\u001b[1;33m\u001b[0m\u001b[1;33m\u001b[0m\u001b[0m\n\u001b[0m\u001b[0;32m   1606\u001b[0m \u001b[1;33m\u001b[0m\u001b[0m\n\u001b[0;32m   1607\u001b[0m \u001b[1;33m\u001b[0m\u001b[0m\n",
      "\u001b[1;32m~\\anaconda3\\lib\\site-packages\\PIL\\Image.py\u001b[0m in \u001b[0;36msave\u001b[1;34m(self, fp, format, **params)\u001b[0m\n\u001b[0;32m   2146\u001b[0m                 \u001b[0mfp\u001b[0m \u001b[1;33m=\u001b[0m \u001b[0mbuiltins\u001b[0m\u001b[1;33m.\u001b[0m\u001b[0mopen\u001b[0m\u001b[1;33m(\u001b[0m\u001b[0mfilename\u001b[0m\u001b[1;33m,\u001b[0m \u001b[1;34m\"r+b\"\u001b[0m\u001b[1;33m)\u001b[0m\u001b[1;33m\u001b[0m\u001b[1;33m\u001b[0m\u001b[0m\n\u001b[0;32m   2147\u001b[0m             \u001b[1;32melse\u001b[0m\u001b[1;33m:\u001b[0m\u001b[1;33m\u001b[0m\u001b[1;33m\u001b[0m\u001b[0m\n\u001b[1;32m-> 2148\u001b[1;33m                 \u001b[0mfp\u001b[0m \u001b[1;33m=\u001b[0m \u001b[0mbuiltins\u001b[0m\u001b[1;33m.\u001b[0m\u001b[0mopen\u001b[0m\u001b[1;33m(\u001b[0m\u001b[0mfilename\u001b[0m\u001b[1;33m,\u001b[0m \u001b[1;34m\"w+b\"\u001b[0m\u001b[1;33m)\u001b[0m\u001b[1;33m\u001b[0m\u001b[1;33m\u001b[0m\u001b[0m\n\u001b[0m\u001b[0;32m   2149\u001b[0m \u001b[1;33m\u001b[0m\u001b[0m\n\u001b[0;32m   2150\u001b[0m         \u001b[1;32mtry\u001b[0m\u001b[1;33m:\u001b[0m\u001b[1;33m\u001b[0m\u001b[1;33m\u001b[0m\u001b[0m\n",
      "\u001b[1;31mFileNotFoundError\u001b[0m: [Errno 2] No such file or directory: 'plots/casesTrainViolinPlot.png'"
     ]
    },
    {
     "data": {
      "image/png": "[encoded data removed]",
      "text/plain": [
       "<Figure size 432x288 with 1 Axes>"
      ]
     },
     "metadata": {
      "needs_background": "light"
     },
     "output_type": "display_data"
    }
   ],
   "source": [
    "plot = sns.violinplot(data=casesTrain, x='outcome', y='age', hue='sex')\n",
    "plot.figure.savefig(\"plots/casesTrainViolinPlot.png\")"
   ]
  },
  {
   "cell_type": "code",
   "execution_count": null,
   "metadata": {
    "colab": {
     "base_uri": "https://localhost:8080/",
     "height": 303
    },
    "id": "yxyiA4M8IgOJ",
    "outputId": "3bc9459e-b9d6-411d-9f05-24a2616fe67e"
   },
   "outputs": [],
   "source": [
    "plot = sns.scatterplot(y=\"latitude\", x=\"longitude\", data=casesTrain, hue='outcome', s=1)\n",
    "plot.figure.savefig(\"../plots/latlonbyOutcome.png\")"
   ]
  },
  {
   "cell_type": "code",
   "execution_count": null,
   "metadata": {
    "id": "AJZbCli34roB"
   },
   "outputs": [],
   "source": [
    "casesTrain.describe()"
   ]
  },
  {
   "cell_type": "code",
   "execution_count": null,
   "metadata": {
    "id": "ZmmZja_OWzyQ"
   },
   "outputs": [],
   "source": [
    "location = location.drop(['Last_Update'], axis=1) ## only 3 different dates, not meaningful"
   ]
  },
  {
   "cell_type": "code",
   "execution_count": null,
   "metadata": {
    "id": "vryMUnkeK-i-"
   },
   "outputs": [],
   "source": [
    "location.Active.fillna(0, inplace=True)\n",
    "location.Incidence_Rate.fillna(0, inplace=True)  ## most Nan incidence Rate and case-fatality ratio are dividing by zero or zero devided by denominator and hence no valid value or zero\n",
    "location['Case-Fatality_Ratio'].fillna(0, inplace=True)\n",
    "location.Active = location.Active.apply(lambda x: int(x))\n",
    "location['Active'] = location['Active'].clip(lower=0)  ## negative should be 0"
   ]
  },
  {
   "cell_type": "code",
   "execution_count": null,
   "metadata": {},
   "outputs": [],
   "source": [
    "location"
   ]
  },
  {
   "cell_type": "code",
   "execution_count": null,
   "metadata": {
    "colab": {
     "base_uri": "https://localhost:8080/",
     "height": 315
    },
    "id": "x698XHV8wnet",
    "outputId": "7cecc5ce-09f4-45ca-c451-8ea323f1203b"
   },
   "outputs": [],
   "source": [
    "plot = sns.scatterplot(x=\"Deaths\", y=\"Confirmed\", data=location)\n",
    "plot.set(xscale=\"log\")\n",
    "plot.set(yscale=\"log\")\n",
    "plot.set_xlim(0.1, 1000000)\n",
    "plot.set_ylim(0.1, 10000000)\n",
    "plot.figure.savefig(\"../plots/deathsVsConfirmedLog.png\")"
   ]
  },
  {
   "cell_type": "code",
   "execution_count": null,
   "metadata": {
    "colab": {
     "base_uri": "https://localhost:8080/",
     "height": 315
    },
    "id": "xDB4UcvYwonm",
    "outputId": "f0a15585-b390-4ebe-ab80-332f403b61b8"
   },
   "outputs": [],
   "source": [
    "plot = sns.scatterplot(x=\"Recovered\", y=\"Confirmed\", data=location)\n",
    "plot.set(xscale=\"log\")\n",
    "plot.set(yscale=\"log\")\n",
    "plot.set_xlim(0.1, 10000000)\n",
    "plot.set_ylim(0.1, 10000000)\n",
    "plot.figure.savefig(\"../plots/recoveredVsConfirmedLog.png\")"
   ]
  },
  {
   "cell_type": "code",
   "execution_count": null,
   "metadata": {
    "colab": {
     "base_uri": "https://localhost:8080/",
     "height": 315
    },
    "id": "eSy847Bnwotp",
    "outputId": "919624de-3b0e-448e-b886-3e945deb3586"
   },
   "outputs": [],
   "source": [
    "plot = sns.scatterplot(x=\"Active\", y=\"Confirmed\", data=location)\n",
    "plot.set(xscale=\"log\")\n",
    "plot.set(yscale=\"log\")\n",
    "plot.set_xlim(0.1, 1000000)\n",
    "plot.set_ylim(0.1, 10000000)\n",
    "plot.figure.savefig(\"../plots/activeVsConfirmedLog.png\")"
   ]
  },
  {
   "cell_type": "code",
   "execution_count": null,
   "metadata": {
    "colab": {
     "base_uri": "https://localhost:8080/",
     "height": 308
    },
    "id": "ImasmsBvwo07",
    "outputId": "576d0474-35be-48d9-e930-9c005abb46c7"
   },
   "outputs": [],
   "source": [
    "plot = sns.scatterplot(x=\"Deaths\", y=\"Recovered\", data=location)\n",
    "plot.set(xscale=\"log\")\n",
    "plot.set(yscale=\"log\")\n",
    "plot.set_xlim(0.1, 100000)\n",
    "plot.set_ylim(0.1, 5000000)\n",
    "plot.figure.savefig(\"../plots/deathsVsRecoveredLog.png\")"
   ]
  },
  {
   "cell_type": "code",
   "execution_count": null,
   "metadata": {
    "colab": {
     "base_uri": "https://localhost:8080/",
     "height": 315
    },
    "id": "zAnhw-gPwo68",
    "outputId": "b33d55e6-d950-456a-a8d0-c843b95879b8"
   },
   "outputs": [],
   "source": [
    "plot = sns.scatterplot(x=\"Deaths\", y=\"Active\", data=location)\n",
    "plot.set(xscale=\"log\")\n",
    "plot.set(yscale=\"log\")\n",
    "plot.set_xlim(0.1, 1000000)\n",
    "plot.set_ylim(0.1, 1000000)\n",
    "plot.figure.savefig(\"../plots/deathsVsActiveLog.png\")"
   ]
  },
  {
   "cell_type": "code",
   "execution_count": null,
   "metadata": {
    "colab": {
     "base_uri": "https://localhost:8080/",
     "height": 315
    },
    "id": "s5RYKRKawpAO",
    "outputId": "d9705583-9fcf-472c-cc77-a8eea463673a"
   },
   "outputs": [],
   "source": [
    "plot = sns.scatterplot(x=\"Recovered\", y=\"Active\", data=location)\n",
    "plot.set(xscale=\"log\")\n",
    "plot.set(yscale=\"log\")\n",
    "plot.set_xlim(0.1, 10000000)\n",
    "plot.set_ylim(0.1, 1000000)\n",
    "plot.figure.savefig(\"../plots/recoveredVsActiveLog.png\")"
   ]
  },
  {
   "cell_type": "code",
   "execution_count": null,
   "metadata": {
    "colab": {
     "base_uri": "https://localhost:8080/",
     "height": 315
    },
    "id": "nBYjXqX0w0Wg",
    "outputId": "705bf450-5e06-4467-92b7-0fba09a7bff1"
   },
   "outputs": [],
   "source": [
    "plot = sns.scatterplot(x=\"Incidence_Rate\", y=\"Case-Fatality_Ratio\", data=location)\n",
    "plot.set(xscale=\"log\")\n",
    "plot.set(yscale=\"log\")\n",
    "plot.set_xlim(0.1, 50000)\n",
    "plot.set_ylim(0.1, 100)\n",
    "plot.figure.savefig(\"../plots/rateVsratioLog.png\")"
   ]
  },
  {
   "cell_type": "code",
   "execution_count": null,
   "metadata": {
    "colab": {
     "base_uri": "https://localhost:8080/",
     "height": 308
    },
    "id": "_ZMNT-Cx2b7V",
    "outputId": "44dd790f-0741-4405-80f6-0621cbe3d7ad"
   },
   "outputs": [],
   "source": [
    "plot = sns.scatterplot(x=\"Incidence_Rate\", y=\"Confirmed\", data=location)\n",
    "plot.set(xscale=\"log\")\n",
    "plot.set(yscale=\"log\")\n",
    "plot.set_xlim(0.1, 50000)\n",
    "plot.set_ylim(0.1, 5000000)\n",
    "plot.figure.savefig(\"../plots/rateVsConfirmedLog.png\")"
   ]
  },
  {
   "cell_type": "code",
   "execution_count": null,
   "metadata": {
    "colab": {
     "base_uri": "https://localhost:8080/",
     "height": 315
    },
    "id": "rz9zkF572cCF",
    "outputId": "0161daa0-6d46-4db5-903b-b5f564274175"
   },
   "outputs": [],
   "source": [
    "plot = sns.scatterplot(x=\"Incidence_Rate\", y=\"Deaths\", data=location)\n",
    "plot.set(xscale=\"log\")\n",
    "plot.set(yscale=\"log\")\n",
    "plot.set_xlim(0.1, 50000)\n",
    "plot.set_ylim(0.1, 100000)\n",
    "plot.figure.savefig(\"../plots/rateVsDeathsLog.png\")"
   ]
  },
  {
   "cell_type": "code",
   "execution_count": null,
   "metadata": {
    "colab": {
     "base_uri": "https://localhost:8080/",
     "height": 308
    },
    "id": "ZbJTVIbg2cIk",
    "outputId": "7b17b1c9-8124-4c01-bdf5-5f2a0ca2b864"
   },
   "outputs": [],
   "source": [
    "plot = sns.scatterplot(x=\"Incidence_Rate\", y=\"Recovered\", data=location)\n",
    "plot.set(xscale=\"log\")\n",
    "plot.set(yscale=\"log\")\n",
    "plot.set_xlim(0.1, 50000)\n",
    "plot.set_ylim(0.1, 5000000)\n",
    "plot.figure.savefig(\"../plots/rateVsRecoveredLog.png\")"
   ]
  },
  {
   "cell_type": "code",
   "execution_count": null,
   "metadata": {
    "colab": {
     "base_uri": "https://localhost:8080/",
     "height": 308
    },
    "id": "P7VZhKLZ2csu",
    "outputId": "b594b1bc-1b76-4b51-8662-65c489b0b2df"
   },
   "outputs": [],
   "source": [
    "plot = sns.scatterplot(x=\"Case-Fatality_Ratio\", y=\"Confirmed\", data=location)\n",
    "plot.set(xscale=\"log\")\n",
    "plot.set(yscale=\"log\")\n",
    "plot.set_xlim(0.1, 10000000)\n",
    "plot.set_ylim(0.1, 5000000)\n",
    "plot.figure.savefig(\"../plots/ratioVsConfirmedLog.png\")"
   ]
  },
  {
   "cell_type": "code",
   "execution_count": null,
   "metadata": {
    "colab": {
     "base_uri": "https://localhost:8080/",
     "height": 308
    },
    "id": "YQ4ayABT2cyT",
    "outputId": "0c8a5638-021f-4739-a9c5-8891c05ea891"
   },
   "outputs": [],
   "source": [
    "plot = sns.scatterplot(x=\"Case-Fatality_Ratio\", y=\"Confirmed\", data=location)\n",
    "plot.set(xscale=\"log\")\n",
    "plot.set(yscale=\"log\")\n",
    "plot.set_xlim(0.1, 200)\n",
    "plot.set_ylim(0.1, 5000000)\n",
    "plot.figure.savefig(\"../plots/ratioVsConfirmedLog.png\")"
   ]
  },
  {
   "cell_type": "code",
   "execution_count": null,
   "metadata": {
    "colab": {
     "base_uri": "https://localhost:8080/",
     "height": 315
    },
    "id": "mc2_ADCn2c4U",
    "outputId": "3b95448e-963c-4179-9034-771f775b8566"
   },
   "outputs": [],
   "source": [
    "plot = sns.scatterplot(x=\"Case-Fatality_Ratio\", y=\"Deaths\", data=location)\n",
    "plot.set(xscale=\"log\")\n",
    "plot.set(yscale=\"log\")\n",
    "plot.set_xlim(0.1, 500)\n",
    "plot.set_ylim(0.1, 100000)\n",
    "plot.figure.savefig(\"../plots/ratioVsDeathsLog.png\")"
   ]
  },
  {
   "cell_type": "code",
   "execution_count": null,
   "metadata": {
    "colab": {
     "base_uri": "https://localhost:8080/",
     "height": 308
    },
    "id": "vry0DiX82c-X",
    "outputId": "5d207ced-9445-40ae-e504-5230c64d473d"
   },
   "outputs": [],
   "source": [
    "plot = sns.scatterplot(x=\"Case-Fatality_Ratio\", y=\"Recovered\", data=location)\n",
    "plot.set(xscale=\"log\")\n",
    "plot.set(yscale=\"log\")\n",
    "plot.set_xlim(0.1, 100)\n",
    "plot.set_ylim(0.1, 5000000)\n",
    "plot.figure.savefig(\"../plots/ratioVsRecoveredLog.png\")"
   ]
  },
  {
   "cell_type": "code",
   "execution_count": null,
   "metadata": {
    "colab": {
     "base_uri": "https://localhost:8080/",
     "height": 308
    },
    "id": "z97fooM93r2V",
    "outputId": "3cf4330b-0cd0-4e0a-8e8a-c314906e849c"
   },
   "outputs": [],
   "source": [
    "plot = sns.scatterplot(x=\"Case-Fatality_Ratio\", y=\"Active\", data=location)\n",
    "plot.set(xscale=\"log\")\n",
    "plot.set(yscale=\"log\")\n",
    "plot.set_xlim(0.1, 150)\n",
    "plot.set_ylim(0.1, 5000000)\n",
    "plot.figure.savefig(\"../plots/ratioVsActiveLog.png\")"
   ]
  },
  {
   "cell_type": "code",
   "execution_count": null,
   "metadata": {
    "colab": {
     "base_uri": "https://localhost:8080/",
     "height": 284
    },
    "id": "UU4JAexG5MIb",
    "outputId": "9b2412fb-142e-40b5-810f-dab914492abb"
   },
   "outputs": [],
   "source": [
    "location.describe()"
   ]
  },
  {
   "cell_type": "code",
   "execution_count": null,
   "metadata": {
    "colab": {
     "base_uri": "https://localhost:8080/",
     "height": 1000
    },
    "id": "fx5HgYP4krTg",
    "outputId": "635fb887-a9f3-4bef-8740-7617c1a3df28"
   },
   "outputs": [],
   "source": [
    "US = location[location[\"Country_Region\"] == \"US\"]\n",
    "states = pd.DataFrame(US[\"Province_State\"].unique()).values\n",
    "locationTransformed = pd.DataFrame(columns = location.columns)\n",
    "for state in states:\n",
    "  latitude = longitude = confirmed = deaths = recovered = active = incidenceRate = temp = 0\n",
    "  for i in range(US.shape[0]):\n",
    "    temp += 1\n",
    "    province = US.iloc[i]\n",
    "    if province[\"Province_State\"] == state:\n",
    "      confirmed += province[\"Confirmed\"]\n",
    "      deaths += province[\"Deaths\"]\n",
    "      recovered += province[\"Recovered\"]\n",
    "      active += province[\"Active\"]\n",
    "      incidenceRate += province[\"Incidence_Rate\"]\n",
    "      if not math.isnan(province[\"Lat\"]):\n",
    "        latitude = province[\"Lat\"]\n",
    "      if not math.isnan(province[\"Long_\"]):\n",
    "        longitude = province[\"Long_\"]\n",
    "\n",
    "  locationTransformed = locationTransformed.append(pd.DataFrame({\"Province_State\": state, \"Country_Region\": \"US\", \"Last_Update\": \"WIP\", \"Lat\": latitude, \"Long_\": longitude, \"Confirmed\": confirmed, \"Deaths\": deaths, \"Recovered\": recovered, \"Active\": active, \"Combined_Key\": (state + \", US\")}), ignore_index = True)"
   ]
  },
  {
   "cell_type": "code",
   "execution_count": null,
   "metadata": {
    "colab": {
     "base_uri": "https://localhost:8080/",
     "height": 1000
    },
    "id": "mTcCRB1FND0x",
    "outputId": "66d2e8f2-6be5-4af5-e682-acc7e3c0e511"
   },
   "outputs": [],
   "source": [
    "merged = pd.merge(locationTransformed, population, left_on=\"Combined_Key\", right_on=\"Combined_Key\")\n",
    "\n",
    "merged = merged.drop(['Last_Update', 'UID', 'iso2', 'iso3', 'code3', 'FIPS', 'Admin2', 'Province_State_y', 'Country_Region_y', 'Lat_y', 'Long__y'], axis = 1)\n",
    "merged = merged[merged['Province_State_x'] != 'Recovered'] \n",
    "merged['Incidence_Rate'] = merged['Confirmed'] / merged['Population'] * 100000\n",
    "merged['Case-Fatality_Ratio'] = merged['Deaths'] / merged['Confirmed'] * 100"
   ]
  },
  {
   "cell_type": "code",
   "execution_count": null,
   "metadata": {
    "id": "Fq4g3cPDbQgn"
   },
   "outputs": [],
   "source": [
    "merged.columns = ['Province', 'Country', 'Latitude', 'Longitude', 'Confirmed', 'Deaths', 'Recovered', 'Active', 'combinedKey', 'incidenceRate', 'cases-fatality-ratio', 'Population']\n",
    "location = location[location['Country_Region'] != 'US']\n",
    "location.append(merged)"
   ]
  },
  {
   "cell_type": "code",
   "execution_count": null,
   "metadata": {
    "id": "mBmFKkKFlMLu"
   },
   "outputs": [],
   "source": [
    "missingLocationProvince = location['Province_State'].isna().sum()\n",
    "missingLocationCountry = location['Country_Region'].isna().sum()\n",
    "missingLocationLat = location['Lat'].isna().sum()\n",
    "missingLocationLong = location['Long_'].isna().sum()"
   ]
  },
  {
   "cell_type": "code",
   "execution_count": null,
   "metadata": {
    "colab": {
     "base_uri": "https://localhost:8080/",
     "height": 623
    },
    "id": "nEOmzkLld3_H",
    "outputId": "168c62ca-58f1-415e-ba60-544bd0e92f62"
   },
   "outputs": [],
   "source": [
    "locationMerged = pd.merge(casesTrain, location,  how='left', left_on=['combinedKey'], right_on = ['Combined_Key'])"
   ]
  },
  {
   "cell_type": "code",
   "execution_count": null,
   "metadata": {
    "id": "ZDAUaM7EiFoz"
   },
   "outputs": [],
   "source": [
    "locationMerged.drop(['Province_State', 'Country_Region', 'Lat', 'Long_', 'Combined_Key'], axis = 1)\n",
    "missingLocationMerged = locationMerged.isna().sum()"
   ]
  },
  {
   "cell_type": "code",
   "execution_count": null,
   "metadata": {
    "id": "rPdbHj6Qbjmn"
   },
   "outputs": [],
   "source": [
    "data = locationMerged[['date_confirmation', 'Confirmed', 'Deaths', 'Recovered', 'Active', 'Incidence_Rate', 'Case-Fatality_Ratio']]\n",
    "data = data.groupby('date_confirmation').sum()\n",
    "plot = sns.relplot(x=\"date_confirmation\", y=\"Confirmed\", data=data, kind=\"line\")\n",
    "plot.savefig(\"../plots/dateVsConfirmed.png\")\n",
    "plot = sns.relplot(x=\"date_confirmation\", y=\"Deaths\", data=data, kind=\"line\")\n",
    "plot.savefig(\"../plots/dateVsDeaths.png\")\n",
    "plot = sns.relplot(x=\"date_confirmation\", y=\"Recovered\", data=data, kind=\"line\")\n",
    "plot.savefig(\"../plots/dateVsRecovered.png\")\n",
    "plot = sns.relplot(x=\"date_confirmation\", y=\"Active\", data=data, kind=\"line\")\n",
    "plot.savefig(\"../plots/dateVsActive.png\")\n",
    "plot = sns.relplot(x=\"date_confirmation\", y=\"Incidence_Rate\", data=data, kind=\"line\")\n",
    "plot.savefig(\"../plots/dateVsRate.png\")\n",
    "plot = sns.relplot(x=\"date_confirmation\", y=\"Case-Fatality_Ratio\", data=data, kind=\"line\")\n",
    "plot.savefig(\"../plots/dateVsRatio.png\")"
   ]
  },
  {
   "cell_type": "code",
   "execution_count": null,
   "metadata": {},
   "outputs": [],
   "source": [
    "casesTrain = pd.read_csv('https://raw.githubusercontent.com/MadanKrishnan97/CMPT459CourseProjectSpring2021/main/dataset/cases_train.csv')\n",
    "location = pd.read_csv('https://raw.githubusercontent.com/MadanKrishnan97/CMPT459CourseProjectSpring2021/main/dataset/location.csv')"
   ]
  },
  {
   "cell_type": "code",
   "execution_count": null,
   "metadata": {},
   "outputs": [],
   "source": [
    "casesTrain.isna().sum()"
   ]
  },
  {
   "cell_type": "code",
   "execution_count": null,
   "metadata": {},
   "outputs": [],
   "source": [
    "location.isna().sum()"
   ]
  }
 ],
 "metadata": {
  "colab": {
   "collapsed_sections": [],
   "name": "Milestone1.ipynb",
   "provenance": [],
   "toc_visible": true
  },
  "kernelspec": {
   "display_name": "Python 3",
   "language": "python",
   "name": "python3"
  },
  "language_info": {
   "codemirror_mode": {
    "name": "ipython",
    "version": 3
   },
   "file_extension": ".py",
   "mimetype": "text/x-python",
   "name": "python",
   "nbconvert_exporter": "python",
   "pygments_lexer": "ipython3",
   "version": "3.8.5"
  }
 },
 "nbformat": 4,
 "nbformat_minor": 1
}
