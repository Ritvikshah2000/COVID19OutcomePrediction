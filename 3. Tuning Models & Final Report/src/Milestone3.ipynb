{
  "nbformat": 4,
  "nbformat_minor": 0,
  "metadata": {
    "colab": {
      "name": "Milestone3.ipynb",
      "provenance": [],
      "collapsed_sections": []
    },
    "kernelspec": {
      "name": "python3",
      "display_name": "Python 3"
    },
    "language_info": {
      "name": "python"
    }
  },
  "cells": [
    {
      "cell_type": "code",
      "metadata": {
        "id": "eeQw7UKEgKjy"
      },
      "source": [
        "import pandas as pd\n",
        "import numpy as np\n",
        "import math\n",
        "import seaborn as sns\n",
        "from scipy import stats\n",
        "from sklearn.model_selection import train_test_split\n",
        "import xgboost as xgb\n",
        "from sklearn.model_selection import GridSearchCV\n",
        "from sklearn.model_selection import RandomizedSearchCV\n",
        "from sklearn.model_selection import StratifiedKFold\n",
        "from sklearn.preprocessing import OrdinalEncoder\n",
        "from sklearn.metrics import accuracy_score\n",
        "from sklearn.metrics import classification_report\n",
        "import pickle\n",
        "from sklearn.metrics import confusion_matrix\n",
        "%matplotlib inline\n",
        "from matplotlib import pyplot as plt\n",
        "from sklearn.tree import DecisionTreeClassifier\n",
        "from sklearn.neighbors import KNeighborsClassifier\n",
        "from sklearn import tree\n",
        "from matplotlib import pyplot\n",
        "from sklearn.model_selection import StratifiedKFold\n",
        "from sklearn.model_selection import cross_val_score\n",
        "from sklearn.metrics import roc_curve, auc,recall_score,precision_score\n",
        "from sklearn.metrics import accuracy_score, make_scorer, recall_score, precision_score, f1_score\n",
        "from sklearn.ensemble import VotingClassifier\n",
        "import sys"
      ],
      "execution_count": null,
      "outputs": []
    },
    {
      "cell_type": "markdown",
      "metadata": {
        "id": "zCQwZS9HrllW"
      },
      "source": [
        "# **Reading Dataset**"
      ]
    },
    {
      "cell_type": "code",
      "metadata": {
        "id": "5C81Zp68gQ9m",
        "colab": {
          "base_uri": "https://localhost:8080/"
        },
        "outputId": "9f58dc0f-9440-4cf7-b65f-0d220b0bf967"
      },
      "source": [
        "dataset = pd.read_csv('https://raw.githubusercontent.com/jusung1459/data/main/data.txt')\n",
        "datasetTest = pd.read_csv('https://raw.githubusercontent.com/jusung1459/data/main/locationMergedTest.csv')\n",
        "print(dataset.describe())\n",
        "dataset['date_confirmation'] = pd.to_datetime(dataset['date_confirmation'])"
      ],
      "execution_count": null,
      "outputs": [
        {
          "output_type": "stream",
          "text": [
            "                 age     Confirmed  ...  Incidence_Rate  Case-Fatality_Ratio\n",
            "count  367636.000000  3.676360e+05  ...   367636.000000        367636.000000\n",
            "mean       43.291751  4.471816e+05  ...      948.291557             2.873130\n",
            "std        12.968343  3.990631e+05  ...      833.222440             1.822906\n",
            "min         0.000000  1.000000e+00  ...        0.029070             0.000000\n",
            "25%        43.000000  1.112900e+05  ...      360.749785             1.939005\n",
            "50%        43.000000  3.491670e+05  ...      948.072083             2.723007\n",
            "75%        43.000000  5.309080e+05  ...      948.291557             2.873130\n",
            "max       106.000000  1.167496e+06  ...     6072.296061            18.494473\n",
            "\n",
            "[8 rows x 7 columns]\n"
          ],
          "name": "stdout"
        }
      ]
    },
    {
      "cell_type": "markdown",
      "metadata": {
        "id": "XA8XojnKkhdb"
      },
      "source": [
        "# **Preprocessing**"
      ]
    },
    {
      "cell_type": "code",
      "metadata": {
        "id": "MjHdNe0Wgao7"
      },
      "source": [
        "train, validation = train_test_split(dataset, test_size = 0.20, random_state = 42)"
      ],
      "execution_count": null,
      "outputs": []
    },
    {
      "cell_type": "code",
      "metadata": {
        "id": "i7-rMC_jllPC"
      },
      "source": [
        "x_train = train[['age', 'sex', 'date_confirmation', 'combinedKey', 'Confirmed', 'Deaths', 'Recovered', 'Active', 'Incidence_Rate', 'Case-Fatality_Ratio']]\n",
        "y_train = train[['outcome']]\n",
        "\n",
        "x_validation = validation[['age', 'sex', 'date_confirmation', 'combinedKey', 'Confirmed', 'Deaths', 'Recovered', 'Active', 'Incidence_Rate', 'Case-Fatality_Ratio']]\n",
        "y_validation = validation[['outcome']]"
      ],
      "execution_count": null,
      "outputs": []
    },
    {
      "cell_type": "code",
      "metadata": {
        "id": "adpFfURnlmXg"
      },
      "source": [
        "# encoder (categorical to numerical)\n",
        "ord_enc = OrdinalEncoder()\n",
        "encoded_dataSet = dataset.copy()\n",
        "encoded_dataSet[\"sex\"] = ord_enc.fit_transform(encoded_dataSet[[\"sex\"]])\n",
        "encoded_dataSet[\"outcome\"] = ord_enc.fit_transform(encoded_dataSet[[\"outcome\"]])\n",
        "encoded_dataSet[\"combinedKey\"] = ord_enc.fit_transform(encoded_dataSet[[\"combinedKey\"]])\n",
        "encoded_dataSet[\"date_confirmation\"] = ord_enc.fit_transform(encoded_dataSet[[\"date_confirmation\"]])\n",
        "train_encoded, validation_encoded = train_test_split(encoded_dataSet, test_size = 0.20, random_state = 42)\n",
        "x_train_encoded = train_encoded[['age', 'sex', 'date_confirmation', 'combinedKey', 'Confirmed', 'Deaths', 'Recovered', 'Active', 'Incidence_Rate', 'Case-Fatality_Ratio']]\n",
        "y_train_encoded = train_encoded[['outcome']]\n",
        "\n",
        "x_validation_encoded = validation_encoded[['age', 'sex', 'date_confirmation', 'combinedKey', 'Confirmed', 'Deaths', 'Recovered', 'Active', 'Incidence_Rate', 'Case-Fatality_Ratio']]\n",
        "y_validation_encoded = validation_encoded[['outcome']]\n",
        "\n",
        "encoded_dataSet_X = encoded_dataSet[['age', 'sex', 'date_confirmation', 'combinedKey', 'Confirmed', 'Deaths', 'Recovered', 'Active', 'Incidence_Rate', 'Case-Fatality_Ratio']]\n",
        "encoded_dataSet_Y = encoded_dataSet[['outcome']]"
      ],
      "execution_count": null,
      "outputs": []
    },
    {
      "cell_type": "code",
      "metadata": {
        "id": "25aLDT_dGoMw"
      },
      "source": [
        "# encoder (categorical to numerical) for datasetTest data\n",
        "ord_enc = OrdinalEncoder()\n",
        "encoded_dataSetTest = datasetTest.copy()\n",
        "encoded_dataSetTest[\"date_confirmation\"] = encoded_dataSetTest[\"date_confirmation\"].fillna('2020-11-05')\n",
        "encoded_dataSetTest[\"Confirmed\"] = encoded_dataSetTest[\"Confirmed\"].fillna(0)\n",
        "encoded_dataSetTest[\"Deaths\"] = encoded_dataSetTest[\"Deaths\"].fillna(0)\n",
        "encoded_dataSetTest[\"Recovered\"] = encoded_dataSetTest[\"Recovered\"].fillna(0)\n",
        "encoded_dataSetTest[\"Active\"] = encoded_dataSetTest[\"Active\"].fillna(0)\n",
        "encoded_dataSetTest[\"Incidence_Rate\"] = encoded_dataSetTest[\"Incidence_Rate\"].fillna(0)\n",
        "encoded_dataSetTest[\"Case-Fatality_Ratio\"] = encoded_dataSetTest[\"Case-Fatality_Ratio\"].fillna(0)\n",
        "\n",
        "encoded_dataSetTest[\"sex\"] = ord_enc.fit_transform(encoded_dataSetTest[[\"sex\"]])\n",
        "encoded_dataSetTest[\"combinedKey\"] = ord_enc.fit_transform(encoded_dataSetTest[[\"combinedKey\"]])\n",
        "encoded_dataSetTest[\"date_confirmation\"] = ord_enc.fit_transform(encoded_dataSetTest[[\"date_confirmation\"]])\n",
        "x_encoded_dataSetTest = encoded_dataSetTest[['age', 'sex', 'date_confirmation', 'combinedKey', 'Confirmed', 'Deaths', 'Recovered', 'Active', 'Incidence_Rate', 'Case-Fatality_Ratio']]"
      ],
      "execution_count": null,
      "outputs": []
    },
    {
      "cell_type": "markdown",
      "metadata": {
        "id": "U7mr4WpDlqEN"
      },
      "source": [
        "# **Building & Tuning Decision Tree**"
      ]
    },
    {
      "cell_type": "code",
      "metadata": {
        "colab": {
          "base_uri": "https://localhost:8080/"
        },
        "id": "qHOaU2-Tltz9",
        "outputId": "6fa1193d-bf8d-4bcf-9f3d-e595258f647b"
      },
      "source": [
        "dtModel = DecisionTreeClassifier(random_state = 10)\n",
        "parameters = {\n",
        "    'max_depth': [10,20,30], #determines how deep the tree is grown\n",
        "    'criterion': [\"gini\", \"entropy\"], #criteria to measure quality of split\n",
        "    'splitter': [\"best\"] #because best always produces greater accuracies for larger datasets\n",
        "}\n",
        "\n",
        "scorers = {\n",
        "    'f1_weighted' : make_scorer(f1_score, average='weighted'),\n",
        "    'precision_weighted': make_scorer(precision_score, average='weighted'),\n",
        "    'recall_weighted': make_scorer(recall_score , average='weighted'),\n",
        "    'accuracy': make_scorer(accuracy_score),\n",
        "    'recall[deceased]' : make_scorer(recall_score,average=None,labels=[0])\n",
        "}\n",
        "\n",
        "cv = StratifiedKFold(n_splits=5, shuffle = True)\n",
        "\n",
        "dtClassification = GridSearchCV(dtModel, \n",
        "                    param_grid = parameters,\n",
        "                    scoring = scorers, \n",
        "                    n_jobs = -1, \n",
        "                    cv = cv.split(x_train_encoded, y_train_encoded),\n",
        "                    refit = 'recall[deceased]')\n",
        "\n",
        "dtClassification.fit(x_train_encoded, y_train_encoded)"
      ],
      "execution_count": null,
      "outputs": [
        {
          "output_type": "execute_result",
          "data": {
            "text/plain": [
              "GridSearchCV(cv=<generator object _BaseKFold.split at 0x7f971e11e850>,\n",
              "             error_score=nan,\n",
              "             estimator=DecisionTreeClassifier(ccp_alpha=0.0, class_weight=None,\n",
              "                                              criterion='gini', max_depth=None,\n",
              "                                              max_features=None,\n",
              "                                              max_leaf_nodes=None,\n",
              "                                              min_impurity_decrease=0.0,\n",
              "                                              min_impurity_split=None,\n",
              "                                              min_samples_leaf=1,\n",
              "                                              min_samples_split=2,\n",
              "                                              min_weight_fraction_leaf=0.0,\n",
              "                                              presort='deprec...\n",
              "             pre_dispatch='2*n_jobs', refit='recall[deceased]',\n",
              "             return_train_score=False,\n",
              "             scoring={'accuracy': make_scorer(accuracy_score),\n",
              "                      'f1_weighted': make_scorer(f1_score, average=weighted),\n",
              "                      'precision_weighted': make_scorer(precision_score, average=weighted),\n",
              "                      'recall[deceased]': make_scorer(recall_score, average=None, labels=[0]),\n",
              "                      'recall_weighted': make_scorer(recall_score, average=weighted)},\n",
              "             verbose=0)"
            ]
          },
          "metadata": {
            "tags": []
          },
          "execution_count": 8
        }
      ]
    },
    {
      "cell_type": "code",
      "metadata": {
        "id": "EFgB1Q2luPvk"
      },
      "source": [
        "decisiontree = pd.DataFrame(dtClassification.cv_results_)\n",
        "decisiontree = decisiontree[['param_max_depth',\t'param_criterion'\t, 'param_splitter' , 'mean_test_f1_weighted', 'mean_test_precision_weighted', 'mean_test_recall_weighted','mean_test_recall[deceased]', 'mean_test_accuracy', 'rank_test_accuracy']]\n",
        "decisiontree = decisiontree.sort_values(by='mean_test_recall[deceased]')\n",
        "decisiontree.to_csv('xgb.csv',index=False)"
      ],
      "execution_count": null,
      "outputs": []
    },
    {
      "cell_type": "code",
      "metadata": {
        "colab": {
          "base_uri": "https://localhost:8080/"
        },
        "id": "3E_xe1cbrw-F",
        "outputId": "c3427816-e7e2-4b68-e00e-e6cdac3c1e4d"
      },
      "source": [
        "print(dtClassification.best_params_)\n",
        "print(dtClassification.best_score_)"
      ],
      "execution_count": null,
      "outputs": [
        {
          "output_type": "stream",
          "text": [
            "{'criterion': 'gini', 'max_depth': 30, 'splitter': 'best'}\n",
            "0.07825526428878385\n"
          ],
          "name": "stdout"
        }
      ]
    },
    {
      "cell_type": "code",
      "metadata": {
        "id": "5rOHsaIhxzsW",
        "colab": {
          "base_uri": "https://localhost:8080/",
          "height": 245
        },
        "outputId": "9ac208a7-2abe-4b53-e8ef-2d4b7d727e4c"
      },
      "source": [
        "decisiontree"
      ],
      "execution_count": null,
      "outputs": [
        {
          "output_type": "execute_result",
          "data": {
            "text/html": [
              "<div>\n",
              "<style scoped>\n",
              "    .dataframe tbody tr th:only-of-type {\n",
              "        vertical-align: middle;\n",
              "    }\n",
              "\n",
              "    .dataframe tbody tr th {\n",
              "        vertical-align: top;\n",
              "    }\n",
              "\n",
              "    .dataframe thead th {\n",
              "        text-align: right;\n",
              "    }\n",
              "</style>\n",
              "<table border=\"1\" class=\"dataframe\">\n",
              "  <thead>\n",
              "    <tr style=\"text-align: right;\">\n",
              "      <th></th>\n",
              "      <th>param_max_depth</th>\n",
              "      <th>param_criterion</th>\n",
              "      <th>param_splitter</th>\n",
              "      <th>mean_test_f1_weighted</th>\n",
              "      <th>mean_test_precision_weighted</th>\n",
              "      <th>mean_test_recall_weighted</th>\n",
              "      <th>mean_test_recall[deceased]</th>\n",
              "      <th>mean_test_accuracy</th>\n",
              "      <th>rank_test_accuracy</th>\n",
              "    </tr>\n",
              "  </thead>\n",
              "  <tbody>\n",
              "    <tr>\n",
              "      <th>0</th>\n",
              "      <td>10</td>\n",
              "      <td>gini</td>\n",
              "      <td>best</td>\n",
              "      <td>0.802168</td>\n",
              "      <td>0.828323</td>\n",
              "      <td>0.819876</td>\n",
              "      <td>0.043040</td>\n",
              "      <td>0.819876</td>\n",
              "      <td>6</td>\n",
              "    </tr>\n",
              "    <tr>\n",
              "      <th>3</th>\n",
              "      <td>10</td>\n",
              "      <td>entropy</td>\n",
              "      <td>best</td>\n",
              "      <td>0.806239</td>\n",
              "      <td>0.821976</td>\n",
              "      <td>0.820345</td>\n",
              "      <td>0.046958</td>\n",
              "      <td>0.820345</td>\n",
              "      <td>5</td>\n",
              "    </tr>\n",
              "    <tr>\n",
              "      <th>4</th>\n",
              "      <td>20</td>\n",
              "      <td>entropy</td>\n",
              "      <td>best</td>\n",
              "      <td>0.824614</td>\n",
              "      <td>0.829806</td>\n",
              "      <td>0.833024</td>\n",
              "      <td>0.075460</td>\n",
              "      <td>0.833024</td>\n",
              "      <td>1</td>\n",
              "    </tr>\n",
              "    <tr>\n",
              "      <th>1</th>\n",
              "      <td>20</td>\n",
              "      <td>gini</td>\n",
              "      <td>best</td>\n",
              "      <td>0.824546</td>\n",
              "      <td>0.829387</td>\n",
              "      <td>0.832721</td>\n",
              "      <td>0.076857</td>\n",
              "      <td>0.832721</td>\n",
              "      <td>4</td>\n",
              "    </tr>\n",
              "    <tr>\n",
              "      <th>5</th>\n",
              "      <td>30</td>\n",
              "      <td>entropy</td>\n",
              "      <td>best</td>\n",
              "      <td>0.824409</td>\n",
              "      <td>0.829508</td>\n",
              "      <td>0.832803</td>\n",
              "      <td>0.077417</td>\n",
              "      <td>0.832803</td>\n",
              "      <td>3</td>\n",
              "    </tr>\n",
              "    <tr>\n",
              "      <th>2</th>\n",
              "      <td>30</td>\n",
              "      <td>gini</td>\n",
              "      <td>best</td>\n",
              "      <td>0.824564</td>\n",
              "      <td>0.829701</td>\n",
              "      <td>0.832891</td>\n",
              "      <td>0.078255</td>\n",
              "      <td>0.832891</td>\n",
              "      <td>2</td>\n",
              "    </tr>\n",
              "  </tbody>\n",
              "</table>\n",
              "</div>"
            ],
            "text/plain": [
              "  param_max_depth param_criterion  ... mean_test_accuracy  rank_test_accuracy\n",
              "0              10            gini  ...           0.819876                   6\n",
              "3              10         entropy  ...           0.820345                   5\n",
              "4              20         entropy  ...           0.833024                   1\n",
              "1              20            gini  ...           0.832721                   4\n",
              "5              30         entropy  ...           0.832803                   3\n",
              "2              30            gini  ...           0.832891                   2\n",
              "\n",
              "[6 rows x 9 columns]"
            ]
          },
          "metadata": {
            "tags": []
          },
          "execution_count": 11
        }
      ]
    },
    {
      "cell_type": "code",
      "metadata": {
        "colab": {
          "base_uri": "https://localhost:8080/"
        },
        "id": "5MuXzRyzyHvV",
        "outputId": "1054b13c-0f7c-4b9b-f319-b93dc28cdf94"
      },
      "source": [
        "yPred = dtClassification.predict(x_validation_encoded)\n",
        "print(\"Accuracy Test {0:.2f}%\".format(100*accuracy_score(y_validation_encoded, yPred)))\n",
        "print(classification_report(y_validation_encoded, yPred))"
      ],
      "execution_count": null,
      "outputs": [
        {
          "output_type": "stream",
          "text": [
            "Accuracy Test 83.34%\n",
            "              precision    recall  f1-score   support\n",
            "\n",
            "         0.0       0.32      0.09      0.14       921\n",
            "         1.0       0.72      0.88      0.79     24912\n",
            "         2.0       0.99      0.99      0.99     30119\n",
            "         3.0       0.74      0.54      0.62     17576\n",
            "\n",
            "    accuracy                           0.83     73528\n",
            "   macro avg       0.69      0.62      0.64     73528\n",
            "weighted avg       0.83      0.83      0.82     73528\n",
            "\n"
          ],
          "name": "stdout"
        }
      ]
    },
    {
      "cell_type": "code",
      "metadata": {
        "colab": {
          "base_uri": "https://localhost:8080/"
        },
        "id": "Qrvr9SVtl3el",
        "outputId": "3174f158-0d0f-422b-aeb5-4dbf687c45d4"
      },
      "source": [
        "# dtModel2 = DecisionTreeClassifier(random_state = 10, max_depth = 30, criterion = 'gini', splitter = 'best')\n",
        "# dtModel2.fit(x_train_encoded, y_train_encoded)"
      ],
      "execution_count": null,
      "outputs": [
        {
          "output_type": "execute_result",
          "data": {
            "text/plain": [
              "DecisionTreeClassifier(ccp_alpha=0.0, class_weight=None, criterion='gini',\n",
              "                       max_depth=30, max_features=None, max_leaf_nodes=None,\n",
              "                       min_impurity_decrease=0.0, min_impurity_split=None,\n",
              "                       min_samples_leaf=1, min_samples_split=2,\n",
              "                       min_weight_fraction_leaf=0.0, presort='deprecated',\n",
              "                       random_state=10, splitter='best')"
            ]
          },
          "metadata": {
            "tags": []
          },
          "execution_count": 13
        }
      ]
    },
    {
      "cell_type": "code",
      "metadata": {
        "colab": {
          "base_uri": "https://localhost:8080/"
        },
        "id": "nMlEnQQrm0rU",
        "outputId": "32562b13-1028-441e-bf2e-19d1aace00b5"
      },
      "source": [
        "# yPred = dtModel2.predict(x_validation_encoded)\n",
        "# print(\"Accuracy Test {0:.2f}%\".format(100*accuracy_score(y_validation_encoded, yPred)))\n",
        "# print(classification_report(y_validation_encoded, yPred))"
      ],
      "execution_count": null,
      "outputs": [
        {
          "output_type": "stream",
          "text": [
            "Accuracy Test 83.34%\n",
            "              precision    recall  f1-score   support\n",
            "\n",
            "         0.0       0.32      0.09      0.14       921\n",
            "         1.0       0.72      0.88      0.79     24912\n",
            "         2.0       0.99      0.99      0.99     30119\n",
            "         3.0       0.74      0.54      0.62     17576\n",
            "\n",
            "    accuracy                           0.83     73528\n",
            "   macro avg       0.69      0.62      0.64     73528\n",
            "weighted avg       0.83      0.83      0.82     73528\n",
            "\n"
          ],
          "name": "stdout"
        }
      ]
    },
    {
      "cell_type": "code",
      "metadata": {
        "colab": {
          "base_uri": "https://localhost:8080/"
        },
        "id": "EFUQFbDyo6pa",
        "outputId": "1c63bd74-7bcd-4355-d362-fcc2710ac83c"
      },
      "source": [
        "print(confusion_matrix(y_validation_encoded, yPred))"
      ],
      "execution_count": null,
      "outputs": [
        {
          "output_type": "stream",
          "text": [
            "[[   80   581    44   216]\n",
            " [   39 21922     7  2944]\n",
            " [   78    19 29806   216]\n",
            " [   51  7830   223  9472]]\n"
          ],
          "name": "stdout"
        }
      ]
    },
    {
      "cell_type": "markdown",
      "metadata": {
        "id": "STtSLWL4GfMe"
      },
      "source": [
        "# **Building & Tuning KNN**"
      ]
    },
    {
      "cell_type": "code",
      "metadata": {
        "colab": {
          "base_uri": "https://localhost:8080/"
        },
        "id": "oYAKs3vYG5oZ",
        "outputId": "0247d08f-5585-46f8-9c9b-49368a18a3ea"
      },
      "source": [
        "knn_model = KNeighborsClassifier()\n",
        "\n",
        "param_dist = {  \n",
        "            'n_neighbors': [3,5,10,50,100],\n",
        "            'weights': ['uniform', 'distance'],\n",
        "            'algorithm': ['auto', 'ball_tree', 'kd_tree', 'brute']      \n",
        "        }\n",
        "\n",
        "scorers = {\n",
        "    'f1_weighted' : make_scorer(f1_score, average='weighted'),\n",
        "    'precision_weighted': make_scorer(precision_score, average='weighted'),\n",
        "    'recall_weighted': make_scorer(recall_score , average='weighted'),\n",
        "    'accuracy': make_scorer(accuracy_score),\n",
        "    'recall[deceased]' : make_scorer(recall_score,average=None,labels=[0])\n",
        "}\n",
        "\n",
        "\n",
        "# scorers = ['f1_weighted','precision_weighted','recall_weighted','accuracy']\n",
        "\n",
        "\n",
        "skf = StratifiedKFold(n_splits=5, shuffle = True)\n",
        "\n",
        "clf_knn = RandomizedSearchCV(knn_model, \n",
        "                    param_dist, \n",
        "                    scoring = scorers, \n",
        "                    n_jobs = -1, \n",
        "                    cv = skf.split(x_train_encoded, y_train_encoded),\n",
        "                    n_iter = 30,\n",
        "                    refit = 'recall[deceased]')\n",
        "\n",
        "clf_knn.fit(x_train_encoded, y_train_encoded)"
      ],
      "execution_count": null,
      "outputs": [
        {
          "output_type": "stream",
          "text": [
            "/usr/local/lib/python3.7/dist-packages/joblib/externals/loky/process_executor.py:691: UserWarning: A worker stopped while some jobs were given to the executor. This can be caused by a too short worker timeout or by a memory leak.\n",
            "  \"timeout or by a memory leak.\", UserWarning\n"
          ],
          "name": "stderr"
        }
      ]
    },
    {
      "cell_type": "code",
      "metadata": {
        "id": "mKdJ30NhHaUv"
      },
      "source": [
        "knn = pd.DataFrame(clf_knn.cv_results_)\n",
        "knn = knn[['param_n_neighbors','param_algorithm',\t'param_weights'\t, 'mean_test_f1_weighted', 'mean_test_precision_weighted', 'mean_test_recall_weighted','mean_test_recall[deceased]', 'mean_test_accuracy', 'rank_test_accuracy']]\n",
        "knn = knn.sort_values(by='rank_test_accuracy')\n",
        "knn.to_csv('knn.csv',index=False)\n",
        "knn"
      ],
      "execution_count": null,
      "outputs": []
    },
    {
      "cell_type": "code",
      "metadata": {
        "id": "xj9iFtHIaaF4"
      },
      "source": [
        "y_test_pred = clf_knn.predict(x_validation_encoded)\n",
        "print(accuracy_score(y_validation_encoded,y_test_pred) )\n",
        "print(\"Accuracy Test {0:.2f}%\".format(100*accuracy_score(y_validation_encoded,y_test_pred)))\n",
        "print(classification_report(y_validation_encoded, y_test_pred))"
      ],
      "execution_count": null,
      "outputs": []
    },
    {
      "cell_type": "code",
      "metadata": {
        "id": "7sLrq6atHdUp"
      },
      "source": [
        "print(clf_knn.best_params_)\n",
        "print(clf_knn.best_score_)"
      ],
      "execution_count": null,
      "outputs": []
    },
    {
      "cell_type": "code",
      "metadata": {
        "id": "-l1jslnEKDKD"
      },
      "source": [
        "print(confusion_matrix(y_validation_encoded, y_test_pred))"
      ],
      "execution_count": null,
      "outputs": []
    },
    {
      "cell_type": "markdown",
      "metadata": {
        "id": "UUDpbdRZbLUl"
      },
      "source": [
        "# **Building & Tuning XGB**\n"
      ]
    },
    {
      "cell_type": "code",
      "metadata": {
        "id": "2kEnfGHXbQqU"
      },
      "source": [
        "# tuning parameters\n",
        "n_estimators = [2500, 2800, 3000]\n",
        "learning_rate = [0.01,0.001, 0.015]\n",
        "max_depth=[12] \n",
        "gamma=[.1,.2,.3,.4,.5]\n",
        "\n",
        "# n_estimators = [800, 1000, 1500]\n",
        "# learning_rate = [0.01, 0.1, 1]\n",
        "# max_depth=[10, 12, 15] \n",
        "# gamma=[.5, .1, .7]\n",
        "\n",
        "kfold = StratifiedKFold(n_splits=5, shuffle=True, random_state=42)\n",
        "xgb_model = xgb.XGBClassifier(objective=\"multi:softprob\", random_state=42, eval_metric=\"merror\", use_label_encoder=False)\n",
        "\n",
        "for n in n_estimators:\n",
        "    for l in learning_rate:\n",
        "        for m in max_depth:\n",
        "            for g in gamma:\n",
        "                n_estimators = [n]\n",
        "                learning_rate = [l]\n",
        "                max_depth=[m] \n",
        "                gamma=[g]\n",
        "                scoring = ['recall_micro', 'accuracy']\n",
        "                param_grid = dict(learning_rate=learning_rate, n_estimators=n_estimators, max_depth=max_depth, gamma=gamma)\n",
        "                grid_search = GridSearchCV(xgb_model, param_grid, scoring=scoring, refit='accuracy')\n",
        "                grid_result = grid_search.fit(x_train_encoded, y_train_encoded)\n",
        "                \n",
        "                print(\"n:\" + str(n) + \" l:\"+str(l) + \" m:\"+str(m) + \" g:\"+str(g))\n",
        "                print(classification_report(grid_result.best_estimator_.predict(x_train_encoded), y_train_encoded))"
      ],
      "execution_count": null,
      "outputs": []
    },
    {
      "cell_type": "code",
      "metadata": {
        "id": "lDCzZe4wbfZM"
      },
      "source": [
        " # best model parameters n:2500 l:0.01 m:12 g:0.3\n",
        "xgb_model = xgb.XGBClassifier(use_label_encoder=False, objective=\"multi:softprob\", random_state=42, eval_metric=\"merror\", n_estimators=2500, learning_rate=0.01, max_depth=12, gamma=0.3)\n",
        "xgb_model.fit(x_train_encoded, y_train_encoded)"
      ],
      "execution_count": null,
      "outputs": []
    },
    {
      "cell_type": "code",
      "metadata": {
        "id": "XycRtgdPbmQK"
      },
      "source": [
        "# Classification Accuracy\n",
        "yVald_pred_xgb = xgb_model.predict(x_validation_encoded)\n",
        "yTrain_pred_xgb = xgb_model.predict(x_train_encoded)\n",
        "\n",
        "print(accuracy_score(y_validation_encoded, yVald_pred_xgb))\n",
        "print(confusion_matrix(y_validation_encoded, yVald_pred_xgb))\n",
        "\n",
        "print(accuracy_score(y_train_encoded, yTrain_pred_xgb))\n",
        "print(confusion_matrix(y_train_encoded, yTrain_pred_xgb))"
      ],
      "execution_count": null,
      "outputs": []
    },
    {
      "cell_type": "markdown",
      "metadata": {
        "id": "u_dV29gcsVRA"
      },
      "source": [
        "# Predicting CasesTest.csv outcomes"
      ]
    },
    {
      "cell_type": "code",
      "metadata": {
        "id": "Lkxm91hnsb4_",
        "colab": {
          "base_uri": "https://localhost:8080/",
          "height": 442
        },
        "outputId": "ab2f6fc9-0780-4359-9a28-d9dc4b0af570"
      },
      "source": [
        " # best model parameters n:2500 l:0.01 m:12 g:0.3\n",
        "xgb_model = xgb.XGBClassifier(use_label_encoder=False, objective=\"multi:softprob\", random_state=42, eval_metric=\"merror\", n_estimators=2500, learning_rate=0.01, max_depth=12, gamma=0.3)\n",
        "xgb_model.fit(x_train_encoded, y_train_encoded)\n",
        "\n",
        "# best model for decision tree Classifier (gini, 20, best)\n",
        "dtModel = DecisionTreeClassifier(criterion='gini', max_depth=30, splitter='best')\n",
        "dtModel.fit(x_train_encoded, y_train_encoded)\n",
        "\n",
        "# best model for KNN classifier (uniform, 3, brute)\n",
        "knnModel = KNeighborsClassifier(weights='uniform', n_neighbors=3, algorithm='brute')\n",
        "knnModel.fit(x_train_encoded, y_train_encoded)"
      ],
      "execution_count": null,
      "outputs": [
        {
          "output_type": "stream",
          "text": [
            "/usr/local/lib/python3.7/dist-packages/sklearn/preprocessing/_label.py:235: DataConversionWarning: A column-vector y was passed when a 1d array was expected. Please change the shape of y to (n_samples, ), for example using ravel().\n",
            "  y = column_or_1d(y, warn=True)\n",
            "/usr/local/lib/python3.7/dist-packages/sklearn/preprocessing/_label.py:268: DataConversionWarning: A column-vector y was passed when a 1d array was expected. Please change the shape of y to (n_samples, ), for example using ravel().\n",
            "  y = column_or_1d(y, warn=True)\n"
          ],
          "name": "stderr"
        },
        {
          "output_type": "error",
          "ename": "KeyboardInterrupt",
          "evalue": "ignored",
          "traceback": [
            "\u001b[0;31m---------------------------------------------------------------------------\u001b[0m",
            "\u001b[0;31mKeyboardInterrupt\u001b[0m                         Traceback (most recent call last)",
            "\u001b[0;32m<ipython-input-27-345149283a86>\u001b[0m in \u001b[0;36m<module>\u001b[0;34m()\u001b[0m\n\u001b[1;32m      1\u001b[0m \u001b[0;31m# best model parameters n:2500 l:0.01 m:12 g:0.3\u001b[0m\u001b[0;34m\u001b[0m\u001b[0;34m\u001b[0m\u001b[0;34m\u001b[0m\u001b[0m\n\u001b[1;32m      2\u001b[0m \u001b[0mxgb_model\u001b[0m \u001b[0;34m=\u001b[0m \u001b[0mxgb\u001b[0m\u001b[0;34m.\u001b[0m\u001b[0mXGBClassifier\u001b[0m\u001b[0;34m(\u001b[0m\u001b[0muse_label_encoder\u001b[0m\u001b[0;34m=\u001b[0m\u001b[0;32mFalse\u001b[0m\u001b[0;34m,\u001b[0m \u001b[0mobjective\u001b[0m\u001b[0;34m=\u001b[0m\u001b[0;34m\"multi:softprob\"\u001b[0m\u001b[0;34m,\u001b[0m \u001b[0mrandom_state\u001b[0m\u001b[0;34m=\u001b[0m\u001b[0;36m42\u001b[0m\u001b[0;34m,\u001b[0m \u001b[0meval_metric\u001b[0m\u001b[0;34m=\u001b[0m\u001b[0;34m\"merror\"\u001b[0m\u001b[0;34m,\u001b[0m \u001b[0mn_estimators\u001b[0m\u001b[0;34m=\u001b[0m\u001b[0;36m2500\u001b[0m\u001b[0;34m,\u001b[0m \u001b[0mlearning_rate\u001b[0m\u001b[0;34m=\u001b[0m\u001b[0;36m0.01\u001b[0m\u001b[0;34m,\u001b[0m \u001b[0mmax_depth\u001b[0m\u001b[0;34m=\u001b[0m\u001b[0;36m12\u001b[0m\u001b[0;34m,\u001b[0m \u001b[0mgamma\u001b[0m\u001b[0;34m=\u001b[0m\u001b[0;36m0.3\u001b[0m\u001b[0;34m)\u001b[0m\u001b[0;34m\u001b[0m\u001b[0;34m\u001b[0m\u001b[0m\n\u001b[0;32m----> 3\u001b[0;31m \u001b[0mxgb_model\u001b[0m\u001b[0;34m.\u001b[0m\u001b[0mfit\u001b[0m\u001b[0;34m(\u001b[0m\u001b[0mx_train_encoded\u001b[0m\u001b[0;34m,\u001b[0m \u001b[0my_train_encoded\u001b[0m\u001b[0;34m)\u001b[0m\u001b[0;34m\u001b[0m\u001b[0;34m\u001b[0m\u001b[0m\n\u001b[0m\u001b[1;32m      4\u001b[0m \u001b[0;34m\u001b[0m\u001b[0m\n\u001b[1;32m      5\u001b[0m \u001b[0;31m# best model for decision tree Classifier (gini, 20, best)\u001b[0m\u001b[0;34m\u001b[0m\u001b[0;34m\u001b[0m\u001b[0;34m\u001b[0m\u001b[0m\n",
            "\u001b[0;32m/usr/local/lib/python3.7/dist-packages/xgboost/sklearn.py\u001b[0m in \u001b[0;36mfit\u001b[0;34m(self, X, y, sample_weight, eval_set, eval_metric, early_stopping_rounds, verbose, xgb_model, sample_weight_eval_set, callbacks)\u001b[0m\n\u001b[1;32m    730\u001b[0m                               \u001b[0mevals_result\u001b[0m\u001b[0;34m=\u001b[0m\u001b[0mevals_result\u001b[0m\u001b[0;34m,\u001b[0m \u001b[0mobj\u001b[0m\u001b[0;34m=\u001b[0m\u001b[0mobj\u001b[0m\u001b[0;34m,\u001b[0m \u001b[0mfeval\u001b[0m\u001b[0;34m=\u001b[0m\u001b[0mfeval\u001b[0m\u001b[0;34m,\u001b[0m\u001b[0;34m\u001b[0m\u001b[0;34m\u001b[0m\u001b[0m\n\u001b[1;32m    731\u001b[0m                               \u001b[0mverbose_eval\u001b[0m\u001b[0;34m=\u001b[0m\u001b[0mverbose\u001b[0m\u001b[0;34m,\u001b[0m \u001b[0mxgb_model\u001b[0m\u001b[0;34m=\u001b[0m\u001b[0mxgb_model\u001b[0m\u001b[0;34m,\u001b[0m\u001b[0;34m\u001b[0m\u001b[0;34m\u001b[0m\u001b[0m\n\u001b[0;32m--> 732\u001b[0;31m                               callbacks=callbacks)\n\u001b[0m\u001b[1;32m    733\u001b[0m \u001b[0;34m\u001b[0m\u001b[0m\n\u001b[1;32m    734\u001b[0m         \u001b[0mself\u001b[0m\u001b[0;34m.\u001b[0m\u001b[0mobjective\u001b[0m \u001b[0;34m=\u001b[0m \u001b[0mxgb_options\u001b[0m\u001b[0;34m[\u001b[0m\u001b[0;34m\"objective\"\u001b[0m\u001b[0;34m]\u001b[0m\u001b[0;34m\u001b[0m\u001b[0;34m\u001b[0m\u001b[0m\n",
            "\u001b[0;32m/usr/local/lib/python3.7/dist-packages/xgboost/training.py\u001b[0m in \u001b[0;36mtrain\u001b[0;34m(params, dtrain, num_boost_round, evals, obj, feval, maximize, early_stopping_rounds, evals_result, verbose_eval, xgb_model, callbacks, learning_rates)\u001b[0m\n\u001b[1;32m    214\u001b[0m                            \u001b[0mevals\u001b[0m\u001b[0;34m=\u001b[0m\u001b[0mevals\u001b[0m\u001b[0;34m,\u001b[0m\u001b[0;34m\u001b[0m\u001b[0;34m\u001b[0m\u001b[0m\n\u001b[1;32m    215\u001b[0m                            \u001b[0mobj\u001b[0m\u001b[0;34m=\u001b[0m\u001b[0mobj\u001b[0m\u001b[0;34m,\u001b[0m \u001b[0mfeval\u001b[0m\u001b[0;34m=\u001b[0m\u001b[0mfeval\u001b[0m\u001b[0;34m,\u001b[0m\u001b[0;34m\u001b[0m\u001b[0;34m\u001b[0m\u001b[0m\n\u001b[0;32m--> 216\u001b[0;31m                            xgb_model=xgb_model, callbacks=callbacks)\n\u001b[0m\u001b[1;32m    217\u001b[0m \u001b[0;34m\u001b[0m\u001b[0m\n\u001b[1;32m    218\u001b[0m \u001b[0;34m\u001b[0m\u001b[0m\n",
            "\u001b[0;32m/usr/local/lib/python3.7/dist-packages/xgboost/training.py\u001b[0m in \u001b[0;36m_train_internal\u001b[0;34m(params, dtrain, num_boost_round, evals, obj, feval, xgb_model, callbacks)\u001b[0m\n\u001b[1;32m     72\u001b[0m         \u001b[0;31m# Skip the first update if it is a recovery step.\u001b[0m\u001b[0;34m\u001b[0m\u001b[0;34m\u001b[0m\u001b[0;34m\u001b[0m\u001b[0m\n\u001b[1;32m     73\u001b[0m         \u001b[0;32mif\u001b[0m \u001b[0mversion\u001b[0m \u001b[0;34m%\u001b[0m \u001b[0;36m2\u001b[0m \u001b[0;34m==\u001b[0m \u001b[0;36m0\u001b[0m\u001b[0;34m:\u001b[0m\u001b[0;34m\u001b[0m\u001b[0;34m\u001b[0m\u001b[0m\n\u001b[0;32m---> 74\u001b[0;31m             \u001b[0mbst\u001b[0m\u001b[0;34m.\u001b[0m\u001b[0mupdate\u001b[0m\u001b[0;34m(\u001b[0m\u001b[0mdtrain\u001b[0m\u001b[0;34m,\u001b[0m \u001b[0mi\u001b[0m\u001b[0;34m,\u001b[0m \u001b[0mobj\u001b[0m\u001b[0;34m)\u001b[0m\u001b[0;34m\u001b[0m\u001b[0;34m\u001b[0m\u001b[0m\n\u001b[0m\u001b[1;32m     75\u001b[0m             \u001b[0mbst\u001b[0m\u001b[0;34m.\u001b[0m\u001b[0msave_rabit_checkpoint\u001b[0m\u001b[0;34m(\u001b[0m\u001b[0;34m)\u001b[0m\u001b[0;34m\u001b[0m\u001b[0;34m\u001b[0m\u001b[0m\n\u001b[1;32m     76\u001b[0m             \u001b[0mversion\u001b[0m \u001b[0;34m+=\u001b[0m \u001b[0;36m1\u001b[0m\u001b[0;34m\u001b[0m\u001b[0;34m\u001b[0m\u001b[0m\n",
            "\u001b[0;32m/usr/local/lib/python3.7/dist-packages/xgboost/core.py\u001b[0m in \u001b[0;36mupdate\u001b[0;34m(self, dtrain, iteration, fobj)\u001b[0m\n\u001b[1;32m   1107\u001b[0m         \u001b[0;32mif\u001b[0m \u001b[0mfobj\u001b[0m \u001b[0;32mis\u001b[0m \u001b[0;32mNone\u001b[0m\u001b[0;34m:\u001b[0m\u001b[0;34m\u001b[0m\u001b[0;34m\u001b[0m\u001b[0m\n\u001b[1;32m   1108\u001b[0m             _check_call(_LIB.XGBoosterUpdateOneIter(self.handle, ctypes.c_int(iteration),\n\u001b[0;32m-> 1109\u001b[0;31m                                                     dtrain.handle))\n\u001b[0m\u001b[1;32m   1110\u001b[0m         \u001b[0;32melse\u001b[0m\u001b[0;34m:\u001b[0m\u001b[0;34m\u001b[0m\u001b[0;34m\u001b[0m\u001b[0m\n\u001b[1;32m   1111\u001b[0m             \u001b[0mpred\u001b[0m \u001b[0;34m=\u001b[0m \u001b[0mself\u001b[0m\u001b[0;34m.\u001b[0m\u001b[0mpredict\u001b[0m\u001b[0;34m(\u001b[0m\u001b[0mdtrain\u001b[0m\u001b[0;34m)\u001b[0m\u001b[0;34m\u001b[0m\u001b[0;34m\u001b[0m\u001b[0m\n",
            "\u001b[0;31mKeyboardInterrupt\u001b[0m: "
          ]
        }
      ]
    },
    {
      "cell_type": "code",
      "metadata": {
        "id": "gYNorkobshZi",
        "colab": {
          "base_uri": "https://localhost:8080/"
        },
        "outputId": "2c82ba94-4d43-4ab1-cf6c-afd362b99f70"
      },
      "source": [
        "eclf1 = VotingClassifier(estimators=[('xgb', xgb_model), ('dt', dtModel), ('knn', knnModel)], voting='soft')\n",
        "eclf1 = eclf1.fit(encoded_dataSet_X, encoded_dataSet_Y) "
      ],
      "execution_count": null,
      "outputs": [
        {
          "output_type": "stream",
          "text": [
            "/usr/local/lib/python3.7/dist-packages/sklearn/preprocessing/_label.py:235: DataConversionWarning: A column-vector y was passed when a 1d array was expected. Please change the shape of y to (n_samples, ), for example using ravel().\n",
            "  y = column_or_1d(y, warn=True)\n",
            "/usr/local/lib/python3.7/dist-packages/sklearn/preprocessing/_label.py:268: DataConversionWarning: A column-vector y was passed when a 1d array was expected. Please change the shape of y to (n_samples, ), for example using ravel().\n",
            "  y = column_or_1d(y, warn=True)\n"
          ],
          "name": "stderr"
        }
      ]
    },
    {
      "cell_type": "code",
      "metadata": {
        "id": "8hSGX0ZwkYQv"
      },
      "source": [
        "ensembls = eclf1.predict(x_encoded_dataSetTest)"
      ],
      "execution_count": null,
      "outputs": []
    },
    {
      "cell_type": "code",
      "metadata": {
        "colab": {
          "base_uri": "https://localhost:8080/"
        },
        "id": "HspP3OYAqjzX",
        "outputId": "bf8c2139-5b15-44a0-95ba-078976878ceb"
      },
      "source": [
        "print(ensembls.shape)\n",
        "predictions = []\n",
        "for i in ensembls:\n",
        "    if i == 0.0:\n",
        "        predictions.append('deceased')\n",
        "    if i == 1.0:\n",
        "        predictions.append('hospitalized')\n",
        "    if i == 2.0:\n",
        "        predictions.append('nonhospitalized')\n",
        "    if i == 3.0:\n",
        "        predictions.append('recovered')\n",
        "        \n",
        "count = 1\n",
        "with open('predictions.txt', 'w') as f:\n",
        "    for row in predictions:\n",
        "        if count == 46500:\n",
        "            f.write(row)\n",
        "        else:\n",
        "            f.write(row + '\\n')\n",
        "        count += 1"
      ],
      "execution_count": null,
      "outputs": [
        {
          "output_type": "execute_result",
          "data": {
            "text/plain": [
              "(46500,)"
            ]
          },
          "metadata": {
            "tags": []
          },
          "execution_count": 13
        }
      ]
    }
  ]
}